{
 "cells": [
  {
   "cell_type": "markdown",
   "metadata": {},
   "source": [
    "# Notebook on potential cleaning"
   ]
  },
  {
   "cell_type": "markdown",
   "metadata": {},
   "source": [
    "# Goals\n",
    "Discuss:\n",
    "- R^2 v. adjusted R^2\n",
    "- F-statistic (18.04)\n",
    "- p values\n",
    "- Jarque-Bera (20.14)\n",
    "- relevance of all coefficients\n",
    "- error based metrics (MAE, RMSE) (19.05)\n",
    "\n",
    "Find and use examples of:\n",
    "- numeric variables (continuous) (19.06, 19.08)\n",
    "- numeric variables (discrete) (19.06, 19.08)\n",
    "- categorical variable (string) (19.06, 19.08)\n",
    "- categorical variable (number) (19.06, 19.08)\n",
    "\n",
    "Find and use examples of:\n",
    "- linear transformations (shifting, scaling) (20.02, 20.03)\n",
    "- log transformations (20.04, 20.05)\n",
    "- interactions (20.06, 20.07)\n",
    "- polynomial regression (20.08, 20.09)\n",
    "\n",
    "Find and discuss violations (?) of:\n",
    "- linearity assumption (20.11)\n",
    "    - need model first, then can test and possibly make changes\n",
    "- independence assumption (20.12, 20.13)\n",
    "    - multicollinearity, explored before making model\n",
    "- normality assumption (20.14)\n",
    "    - need model first, then can test residuals for normality\n",
    "- equal variance assumption (20.15)\n",
    "    - need model first, then can test"
   ]
  },
  {
   "cell_type": "code",
   "execution_count": 2,
   "metadata": {},
   "outputs": [],
   "source": [
    "import pandas as pd\n",
    "import matplotlib.pyplot as plt\n",
    "import statsmodels.api as sm\n",
    "import numpy as np\n",
    "\n",
    "df = pd.read_csv('data/kc_house_data.csv')\n",
    "\n",
    "# make subsets of the columns\n",
    "num_cont = ['price', 'sqft_living', 'sqft_lot', 'sqft_above', 'sqft_basement', 'sqft_garage', 'sqft_patio']\n",
    "num_disc = ['bedrooms', 'bathrooms', 'floors', 'yr_built', 'yr_renovated']\n",
    "cat = ['waterfront', 'greenbelt', 'nuisance', 'view', 'condition', 'grade', 'heat_source']\n",
    "ignore = ['id', 'date', 'lat', 'long', 'address']\n",
    "\n",
    "# create sub-dfs and standardize numeric values\n",
    "df_cont_std = df[num_cont].copy()\n",
    "for col in df_cont_std:\n",
    "    df_cont_std[col] = (df_cont_std[col] - df_cont_std[col].mean()) / df_cont_std[col].std()\n",
    "\n",
    "df_disc_std = df[num_disc].copy()\n",
    "for col in df_disc_std:\n",
    "    df_disc_std[col] = (df_disc_std[col] - df_disc_std[col].mean()) / df_disc_std[col].std()\n",
    "\n",
    "df_cat = df[cat].copy()"
   ]
  },
  {
   "cell_type": "markdown",
   "metadata": {},
   "source": [
    "# what are the columns"
   ]
  },
  {
   "cell_type": "markdown",
   "metadata": {},
   "source": [
    "## Ignore\n",
    "- id\n",
    "- date\n",
    "- lat\n",
    "- long\n",
    "- address"
   ]
  },
  {
   "cell_type": "markdown",
   "metadata": {},
   "source": [
    "## Numeric continuous:\n",
    "- **price**\n",
    "- sqft_living\n",
    "- sqft_lot\n",
    "- sqft_above\n",
    "- sqft_basement\n",
    "- sqft_garage\n",
    "- sqft_patio"
   ]
  },
  {
   "cell_type": "code",
   "execution_count": 3,
   "metadata": {},
   "outputs": [
    {
     "data": {
      "text/plain": [
       "price             6.602907\n",
       "sqft_living       1.607881\n",
       "sqft_lot         21.046621\n",
       "sqft_above        1.553698\n",
       "sqft_basement     1.111792\n",
       "sqft_garage       0.666053\n",
       "sqft_patio        2.345749\n",
       "dtype: float64"
      ]
     },
     "execution_count": 3,
     "metadata": {},
     "output_type": "execute_result"
    }
   ],
   "source": [
    "df_cont_std.skew()"
   ]
  },
  {
   "cell_type": "code",
   "execution_count": 4,
   "metadata": {},
   "outputs": [
    {
     "data": {
      "text/plain": [
       "154"
      ]
     },
     "execution_count": 4,
     "metadata": {},
     "output_type": "execute_result"
    }
   ],
   "source": [
    "# collect a list of outlier data past a certain threshold of standard deviations\n",
    "\n",
    "threshold = 7.5\n",
    "outliers = set()\n",
    "for col in df_cont_std:\n",
    "    outliers = outliers.union(set(df_cont_std[df_cont_std[col] > threshold].index))\n",
    "    \n",
    "len(outliers)"
   ]
  },
  {
   "cell_type": "code",
   "execution_count": 5,
   "metadata": {},
   "outputs": [
    {
     "data": {
      "text/plain": [
       "price            2.837029\n",
       "sqft_living      1.205495\n",
       "sqft_lot         7.182875\n",
       "sqft_above       1.294544\n",
       "sqft_basement    0.943686\n",
       "sqft_garage      0.474270\n",
       "sqft_patio       1.905713\n",
       "dtype: float64"
      ]
     },
     "execution_count": 5,
     "metadata": {},
     "output_type": "execute_result"
    }
   ],
   "source": [
    "df_cont_std.drop(outliers).skew()"
   ]
  },
  {
   "cell_type": "code",
   "execution_count": null,
   "metadata": {},
   "outputs": [],
   "source": [
    "df_cont_std.hist(figsize=(15,10), bins=\"auto\");"
   ]
  },
  {
   "cell_type": "code",
   "execution_count": null,
   "metadata": {},
   "outputs": [],
   "source": [
    "df_cont_std.drop(outliers).hist(figsize=(15,10), bins=\"auto\");"
   ]
  },
  {
   "cell_type": "code",
   "execution_count": null,
   "metadata": {},
   "outputs": [],
   "source": [
    "y = df['price']\n",
    "X = df_cont_std.drop('price', axis=1)\n",
    "\n",
    "fig, axes = plt.subplots(nrows=2, ncols=3, figsize=(15,8), sharey=True)\n",
    "\n",
    "for i, column in enumerate(X.columns):\n",
    "    # Locate applicable axes\n",
    "    row = i // 3\n",
    "    col = i % 3\n",
    "    ax = axes[row][col]\n",
    "    \n",
    "    # Plot feature vs. y and label axes\n",
    "    ax.scatter(X[column], y, alpha=0.2)\n",
    "    ax.set_xlabel(column)\n",
    "    if col == 0:\n",
    "        ax.set_ylabel('price')\n",
    "\n",
    "fig.tight_layout()"
   ]
  },
  {
   "cell_type": "code",
   "execution_count": null,
   "metadata": {},
   "outputs": [],
   "source": [
    "y = df.drop(outliers)['price']\n",
    "X = df_cont_std.drop(outliers).drop('price', axis=1)\n",
    "\n",
    "fig, axes = plt.subplots(nrows=2, ncols=3, figsize=(15,8), sharey=True)\n",
    "\n",
    "for i, column in enumerate(X.columns):\n",
    "    # Locate applicable axes\n",
    "    row = i // 3\n",
    "    col = i % 3\n",
    "    ax = axes[row][col]\n",
    "    \n",
    "    # Plot feature vs. y and label axes\n",
    "    ax.scatter(X[column], y, alpha=0.2)\n",
    "    ax.set_xlabel(column)\n",
    "    if col == 0:\n",
    "        ax.set_ylabel('price')\n",
    "\n",
    "fig.tight_layout()"
   ]
  },
  {
   "cell_type": "code",
   "execution_count": 5,
   "metadata": {},
   "outputs": [],
   "source": [
    "df['garage'] = df['sqft_garage'] > 0"
   ]
  },
  {
   "cell_type": "markdown",
   "metadata": {},
   "source": [
    "## Numeric discrete:\n",
    "- bedrooms\n",
    "- bathrooms\n",
    "- floors\n",
    "- yr_built\n",
    "- yr_renovated"
   ]
  },
  {
   "cell_type": "code",
   "execution_count": null,
   "metadata": {},
   "outputs": [],
   "source": [
    "df_disc_std.skew()"
   ]
  },
  {
   "cell_type": "code",
   "execution_count": null,
   "metadata": {},
   "outputs": [],
   "source": [
    "df_disc_std.hist(figsize=(15,10), bins=\"auto\");"
   ]
  },
  {
   "cell_type": "code",
   "execution_count": null,
   "metadata": {},
   "outputs": [],
   "source": [
    "df_disc_std.drop(outliers).hist(figsize=(15,10), bins=\"auto\");"
   ]
  },
  {
   "cell_type": "code",
   "execution_count": null,
   "metadata": {},
   "outputs": [],
   "source": [
    "y = df['price']\n",
    "X = df_disc_std\n",
    "\n",
    "fig, axes = plt.subplots(nrows=2, ncols=3, figsize=(15,8), sharey=True)\n",
    "\n",
    "for i, column in enumerate(X.columns):\n",
    "    # Locate applicable axes\n",
    "    row = i // 3\n",
    "    col = i % 3\n",
    "    ax = axes[row][col]\n",
    "    \n",
    "    # Plot feature vs. y and label axes\n",
    "    ax.scatter(X[column], y, alpha=0.2)\n",
    "    ax.set_xlabel(column)\n",
    "    if col == 0:\n",
    "        ax.set_ylabel('price')\n",
    "\n",
    "fig.tight_layout()"
   ]
  },
  {
   "cell_type": "code",
   "execution_count": null,
   "metadata": {},
   "outputs": [],
   "source": [
    "y = df.drop(outliers)['price']\n",
    "X = df_disc_std.drop(outliers)\n",
    "\n",
    "fig, axes = plt.subplots(nrows=2, ncols=3, figsize=(15,8), sharey=True)\n",
    "\n",
    "for i, column in enumerate(X.columns):\n",
    "    # Locate applicable axes\n",
    "    row = i // 3\n",
    "    col = i % 3\n",
    "    ax = axes[row][col]\n",
    "    \n",
    "    # Plot feature vs. y and label axes\n",
    "    ax.scatter(X[column], y, alpha=0.2)\n",
    "    ax.set_xlabel(column)\n",
    "    if col == 0:\n",
    "        ax.set_ylabel('price')\n",
    "\n",
    "fig.tight_layout()"
   ]
  },
  {
   "cell_type": "code",
   "execution_count": null,
   "metadata": {
    "scrolled": true
   },
   "outputs": [],
   "source": [
    "df[df['yr_renovated'] > 0]['yr_renovated'].hist();"
   ]
  },
  {
   "cell_type": "code",
   "execution_count": null,
   "metadata": {},
   "outputs": [],
   "source": [
    "len(df[df['yr_renovated'] > 0])"
   ]
  },
  {
   "cell_type": "code",
   "execution_count": 7,
   "metadata": {},
   "outputs": [],
   "source": [
    "df['renovated'] = df['yr_renovated'] > 0"
   ]
  },
  {
   "cell_type": "markdown",
   "metadata": {},
   "source": [
    "## Categorical string:\n",
    "- waterfront\n",
    "- greenbelt\n",
    "- nuisance\n",
    "- view\n",
    "- condition\n",
    "- grade\n",
    "- heat_source\n",
    "- sewer_system"
   ]
  },
  {
   "cell_type": "code",
   "execution_count": null,
   "metadata": {},
   "outputs": [],
   "source": [
    "X = df[cat]\n",
    "X = pd.get_dummies(X, columns=['waterfront', 'greenbelt', 'nuisance', 'view', 'condition', 'grade', 'heat_source'])\n",
    "X = X.drop(['waterfront_NO', 'greenbelt_NO', 'nuisance_NO', 'view_NONE', 'condition_Average', 'grade_7 Average',\n",
    "        'heat_source_Other'], axis=1)\n",
    "# X = data[[\"weight\", \"model year\", \"origin\"]]\n",
    "# X = pd.get_dummies(X, columns=[\"origin\"])\n",
    "# X = X.drop(\"origin_2\", axis=1)\n",
    "# X"
   ]
  },
  {
   "cell_type": "code",
   "execution_count": null,
   "metadata": {},
   "outputs": [],
   "source": [
    "y = df['price']\n",
    "\n",
    "fig, axes = plt.subplots(nrows=5, ncols=6, figsize=(15,15), sharey=True)\n",
    "\n",
    "for i, column in enumerate(X.columns):\n",
    "    # Locate applicable axes\n",
    "    row = i // 6\n",
    "    col = i % 6\n",
    "    ax = axes[row][col]\n",
    "    \n",
    "    # Plot feature vs. y and label axes\n",
    "    ax.scatter(X[column], y, alpha=0.2)\n",
    "    ax.set_xlabel(column)\n",
    "    if col == 0:\n",
    "        ax.set_ylabel('price')\n",
    "\n",
    "fig.tight_layout()"
   ]
  },
  {
   "cell_type": "markdown",
   "metadata": {},
   "source": [
    "## Categorical number:\n",
    "- *none*"
   ]
  },
  {
   "cell_type": "markdown",
   "metadata": {},
   "source": [
    "# Possible data cleaning measures:"
   ]
  },
  {
   "cell_type": "markdown",
   "metadata": {},
   "source": [
    "Setting an outlier threshold at 7.5 standard deviations eliminates about half a percent (154) of the NUMERIC CONTINUOUS records and generally reduces skewness except for in lot size ('sqft_lot'). There's likely a split between urban and suburban, where all the urban spaces have a lot size under a certain threshold but suburban spaces continue to vary logarithmically? It is clear that dropping the outliers gives richer looking scatterplots that are likely more linear."
   ]
  },
  {
   "cell_type": "markdown",
   "metadata": {},
   "source": [
    "Skewness is not a problem with the NUMERIC DISCRETE records."
   ]
  },
  {
   "cell_type": "markdown",
   "metadata": {},
   "source": [
    "The YEAR RENOVATED causes an issue because zero just means it wasn't renovated. Only 1,372 homes had been renovated, fewer than 5% of the records. Perhaps set the zeros instead to the year it was built??"
   ]
  },
  {
   "cell_type": "markdown",
   "metadata": {},
   "source": [
    "Possibly RENOVATED and GARAGE should be new categorical variables."
   ]
  }
 ],
 "metadata": {
  "kernelspec": {
   "display_name": "Python 3",
   "language": "python",
   "name": "python3"
  },
  "language_info": {
   "codemirror_mode": {
    "name": "ipython",
    "version": 3
   },
   "file_extension": ".py",
   "mimetype": "text/x-python",
   "name": "python",
   "nbconvert_exporter": "python",
   "pygments_lexer": "ipython3",
   "version": "3.8.5"
  }
 },
 "nbformat": 4,
 "nbformat_minor": 4
}
