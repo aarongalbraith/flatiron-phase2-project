{
 "cells": [
  {
   "cell_type": "code",
   "execution_count": 92,
   "metadata": {},
   "outputs": [],
   "source": [
    "import pandas as pd\n",
    "import matplotlib.pyplot as plt\n",
    "import statsmodels.api as sm\n",
    "import numpy as np\n",
    "\n",
    "df = pd.read_csv('data/kc_house_data.csv')"
   ]
  },
  {
   "cell_type": "code",
   "execution_count": 93,
   "metadata": {},
   "outputs": [],
   "source": [
    "# make subsets of the columns\n",
    "num_cont = ['sqft_living', 'sqft_lot', 'sqft_basement', 'sqft_patio']\n",
    "num_disc = ['bedrooms', 'floors', 'age']\n",
    "cat = ['garage', 'waterfront', 'greenbelt', 'nuisance', 'view', 'condition', 'grade', 'heat_source']\n",
    "ignore = ['id', 'date', 'lat', 'long', 'address']\n",
    "log_vars = ['price', 'sqft_lot']"
   ]
  },
  {
   "cell_type": "code",
   "execution_count": 94,
   "metadata": {},
   "outputs": [],
   "source": [
    "df['sale_year'] = df['date'].apply(lambda x: int(x[-4:]))\n",
    "df['age'] = df['sale_year'] - df['yr_built']\n",
    "df['yrs_since_reno'] = df.apply(lambda x: x.sale_year - x.yr_renovated if x.yr_renovated > 0 else x.age, axis=1)\n",
    "df['garage'] = df['sqft_garage'].apply(lambda x: 1 if x > 0 else 0)\n",
    "\n",
    "df = df[['price',\n",
    "         'sqft_living', 'sqft_lot', 'sqft_basement', 'sqft_patio',\n",
    "        'bedrooms', 'floors', 'age',\n",
    "         'garage', 'waterfront', 'greenbelt', 'nuisance', 'view', 'condition', 'grade']]"
   ]
  },
  {
   "cell_type": "code",
   "execution_count": 95,
   "metadata": {},
   "outputs": [],
   "source": [
    "for col in log_vars:\n",
    "    df[col] = np.log(df[col])"
   ]
  },
  {
   "cell_type": "code",
   "execution_count": 96,
   "metadata": {},
   "outputs": [],
   "source": [
    "for col in num_cont:\n",
    "    df[col] = (df[col] - df[col].mean()) / df[col].std()\n",
    "\n",
    "for col in num_disc:\n",
    "    df[col] = (df[col] - df[col].mean()) / df[col].std()"
   ]
  },
  {
   "cell_type": "code",
   "execution_count": 97,
   "metadata": {},
   "outputs": [],
   "source": [
    "# collect a list of outlier data past a certain threshold of standard deviations\n",
    "\n",
    "threshold = 7.5\n",
    "outliers = set()\n",
    "for col in num_cont:\n",
    "    outliers = outliers.union(set(df[df[col] > threshold].index))\n",
    "    \n",
    "df.drop(outliers, inplace=True)"
   ]
  },
  {
   "cell_type": "code",
   "execution_count": 100,
   "metadata": {},
   "outputs": [],
   "source": [
    "df = pd.get_dummies(df, columns=['waterfront', 'greenbelt', 'nuisance', 'view', 'condition', 'grade'])\n",
    "df = df.drop(['waterfront_NO', 'greenbelt_NO', 'nuisance_NO', 'view_NONE', 'condition_Average', 'grade_7 Average'], axis=1)"
   ]
  },
  {
   "cell_type": "code",
   "execution_count": 108,
   "metadata": {},
   "outputs": [
    {
     "name": "stdout",
     "output_type": "stream",
     "text": [
      "                            OLS Regression Results                            \n",
      "==============================================================================\n",
      "Dep. Variable:                  price   R-squared:                       0.495\n",
      "Model:                            OLS   Adj. R-squared:                  0.494\n",
      "Method:                 Least Squares   F-statistic:                     951.0\n",
      "Date:                Tue, 21 Feb 2023   Prob (F-statistic):               0.00\n",
      "Time:                        09:49:50   Log-Likelihood:                -16102.\n",
      "No. Observations:               30130   AIC:                         3.227e+04\n",
      "Df Residuals:                   30098   BIC:                         3.253e+04\n",
      "Df Model:                          31                                         \n",
      "Covariance Type:            nonrobust                                         \n",
      "=======================================================================================\n",
      "                          coef    std err          t      P>|t|      [0.025      0.975]\n",
      "---------------------------------------------------------------------------------------\n",
      "const                  13.5522      0.007   2065.943      0.000      13.539      13.565\n",
      "sqft_living             0.2047      0.005     38.643      0.000       0.194       0.215\n",
      "sqft_lot               -0.0097      0.003     -2.992      0.003      -0.016      -0.003\n",
      "sqft_basement           0.0162      0.003      5.177      0.000       0.010       0.022\n",
      "sqft_patio              0.0142      0.003      5.041      0.000       0.009       0.020\n",
      "bedrooms               -0.0121      0.003     -3.666      0.000      -0.019      -0.006\n",
      "floors                  0.0221      0.004      6.075      0.000       0.015       0.029\n",
      "age                     0.1120      0.004     31.436      0.000       0.105       0.119\n",
      "garage                 -0.0100      0.006     -1.627      0.104      -0.022       0.002\n",
      "waterfront_YES          0.1971      0.022      8.935      0.000       0.154       0.240\n",
      "greenbelt_YES           0.1132      0.015      7.401      0.000       0.083       0.143\n",
      "nuisance_YES            0.0198      0.006      3.096      0.002       0.007       0.032\n",
      "view_AVERAGE            0.0612      0.010      6.016      0.000       0.041       0.081\n",
      "view_EXCELLENT          0.2637      0.022     12.232      0.000       0.221       0.306\n",
      "view_FAIR               0.1570      0.028      5.577      0.000       0.102       0.212\n",
      "view_GOOD               0.0467      0.015      3.154      0.002       0.018       0.076\n",
      "condition_Fair         -0.0957      0.028     -3.435      0.001      -0.150      -0.041\n",
      "condition_Good          0.0239      0.006      4.020      0.000       0.012       0.036\n",
      "condition_Poor         -0.2702      0.054     -5.038      0.000      -0.375      -0.165\n",
      "condition_Very Good     0.0866      0.008     10.435      0.000       0.070       0.103\n",
      "grade_1 Cabin           0.0563      0.293      0.192      0.848      -0.518       0.630\n",
      "grade_10 Very Good      0.6760      0.015     45.561      0.000       0.647       0.705\n",
      "grade_11 Excellent      0.8383      0.024     34.356      0.000       0.790       0.886\n",
      "grade_12 Luxury         0.8670      0.043     20.338      0.000       0.783       0.951\n",
      "grade_13 Mansion        0.5841      0.098      5.962      0.000       0.392       0.776\n",
      "grade_2 Substandard    -0.6096      0.294     -2.073      0.038      -1.186      -0.033\n",
      "grade_3 Poor           -0.5767      0.119     -4.866      0.000      -0.809      -0.344\n",
      "grade_4 Low            -0.2846      0.059     -4.843      0.000      -0.400      -0.169\n",
      "grade_5 Fair           -0.2979      0.022    -13.553      0.000      -0.341      -0.255\n",
      "grade_6 Low Average    -0.2222      0.009    -23.984      0.000      -0.240      -0.204\n",
      "grade_8 Good            0.2321      0.007     35.021      0.000       0.219       0.245\n",
      "grade_9 Better          0.4873      0.010     49.887      0.000       0.468       0.506\n",
      "==============================================================================\n",
      "Omnibus:                     8077.850   Durbin-Watson:                   1.963\n",
      "Prob(Omnibus):                  0.000   Jarque-Bera (JB):            94663.304\n",
      "Skew:                          -0.955   Prob(JB):                         0.00\n",
      "Kurtosis:                      11.471   Cond. No.                         188.\n",
      "==============================================================================\n",
      "\n",
      "Notes:\n",
      "[1] Standard Errors assume that the covariance matrix of the errors is correctly specified.\n"
     ]
    }
   ],
   "source": [
    "y = df['price']\n",
    "X = df.drop(columns=['price'])\n",
    "\n",
    "model = sm.OLS(y, sm.add_constant(X))\n",
    "results = model.fit()\n",
    "\n",
    "print(results.summary())"
   ]
  },
  {
   "cell_type": "code",
   "execution_count": 109,
   "metadata": {
    "collapsed": true
   },
   "outputs": [
    {
     "name": "stdout",
     "output_type": "stream",
     "text": [
      "                            OLS Regression Results                            \n",
      "==============================================================================\n",
      "Dep. Variable:                  price   R-squared:                       0.387\n",
      "Model:                            OLS   Adj. R-squared:                  0.387\n",
      "Method:                 Least Squares   F-statistic:                 1.899e+04\n",
      "Date:                Tue, 21 Feb 2023   Prob (F-statistic):               0.00\n",
      "Time:                        09:51:52   Log-Likelihood:                -19025.\n",
      "No. Observations:               30130   AIC:                         3.805e+04\n",
      "Df Residuals:                   30128   BIC:                         3.807e+04\n",
      "Df Model:                           1                                         \n",
      "Covariance Type:            nonrobust                                         \n",
      "===============================================================================\n",
      "                  coef    std err          t      P>|t|      [0.025      0.975]\n",
      "-------------------------------------------------------------------------------\n",
      "const          13.7354      0.003   5240.011      0.000      13.730      13.741\n",
      "sqft_living     0.3689      0.003    137.814      0.000       0.364       0.374\n",
      "==============================================================================\n",
      "Omnibus:                     5790.032   Durbin-Watson:                   1.971\n",
      "Prob(Omnibus):                  0.000   Jarque-Bera (JB):            48556.108\n",
      "Skew:                          -0.691   Prob(JB):                         0.00\n",
      "Kurtosis:                       9.064   Cond. No.                         1.02\n",
      "==============================================================================\n",
      "\n",
      "Notes:\n",
      "[1] Standard Errors assume that the covariance matrix of the errors is correctly specified.\n"
     ]
    }
   ],
   "source": [
    "y = df['price']\n",
    "X = df['sqft_living']\n",
    "\n",
    "model = sm.OLS(y, sm.add_constant(X))\n",
    "results = model.fit()\n",
    "\n",
    "print(results.summary())"
   ]
  },
  {
   "cell_type": "code",
   "execution_count": 114,
   "metadata": {},
   "outputs": [
    {
     "name": "stdout",
     "output_type": "stream",
     "text": [
      "                            OLS Regression Results                            \n",
      "==============================================================================\n",
      "Dep. Variable:                  price   R-squared:                       0.495\n",
      "Model:                            OLS   Adj. R-squared:                  0.494\n",
      "Method:                 Least Squares   F-statistic:                     1053.\n",
      "Date:                Tue, 21 Feb 2023   Prob (F-statistic):               0.00\n",
      "Time:                        09:55:07   Log-Likelihood:                -16105.\n",
      "No. Observations:               30130   AIC:                         3.227e+04\n",
      "Df Residuals:                   30101   BIC:                         3.251e+04\n",
      "Df Model:                          28                                         \n",
      "Covariance Type:            nonrobust                                         \n",
      "=======================================================================================\n",
      "                          coef    std err          t      P>|t|      [0.025      0.975]\n",
      "---------------------------------------------------------------------------------------\n",
      "const                  13.5455      0.005   2657.471      0.000      13.535      13.555\n",
      "sqft_living             0.2042      0.005     38.637      0.000       0.194       0.215\n",
      "sqft_lot               -0.0103      0.003     -3.197      0.001      -0.017      -0.004\n",
      "sqft_basement           0.0162      0.003      5.164      0.000       0.010       0.022\n",
      "sqft_patio              0.0147      0.003      5.233      0.000       0.009       0.020\n",
      "bedrooms               -0.0123      0.003     -3.712      0.000      -0.019      -0.006\n",
      "floors                  0.0230      0.004      6.409      0.000       0.016       0.030\n",
      "age                     0.1142      0.003     34.502      0.000       0.108       0.121\n",
      "waterfront_YES          0.1975      0.022      8.971      0.000       0.154       0.241\n",
      "greenbelt_YES           0.1123      0.015      7.347      0.000       0.082       0.142\n",
      "nuisance_YES            0.0204      0.006      3.204      0.001       0.008       0.033\n",
      "view_AVERAGE            0.0611      0.010      6.008      0.000       0.041       0.081\n",
      "view_EXCELLENT          0.2644      0.022     12.266      0.000       0.222       0.307\n",
      "view_FAIR               0.1569      0.028      5.573      0.000       0.102       0.212\n",
      "view_GOOD               0.0473      0.015      3.191      0.001       0.018       0.076\n",
      "condition_Fair         -0.0979      0.028     -3.522      0.000      -0.152      -0.043\n",
      "condition_Good          0.0233      0.006      3.931      0.000       0.012       0.035\n",
      "condition_Poor         -0.2800      0.053     -5.244      0.000      -0.385      -0.175\n",
      "condition_Very Good     0.0863      0.008     10.404      0.000       0.070       0.103\n",
      "grade_10 Very Good      0.6754      0.015     45.532      0.000       0.646       0.704\n",
      "grade_11 Excellent      0.8378      0.024     34.338      0.000       0.790       0.886\n",
      "grade_12 Luxury         0.8666      0.043     20.327      0.000       0.783       0.950\n",
      "grade_13 Mansion        0.5849      0.098      5.970      0.000       0.393       0.777\n",
      "grade_3 Poor           -0.5683      0.118     -4.797      0.000      -0.801      -0.336\n",
      "grade_4 Low            -0.2790      0.059     -4.752      0.000      -0.394      -0.164\n",
      "grade_5 Fair           -0.2938      0.022    -13.427      0.000      -0.337      -0.251\n",
      "grade_6 Low Average    -0.2194      0.009    -24.040      0.000      -0.237      -0.201\n",
      "grade_8 Good            0.2316      0.007     34.988      0.000       0.219       0.245\n",
      "grade_9 Better          0.4869      0.010     49.863      0.000       0.468       0.506\n",
      "==============================================================================\n",
      "Omnibus:                     8070.222   Durbin-Watson:                   1.962\n",
      "Prob(Omnibus):                  0.000   Jarque-Bera (JB):            94699.623\n",
      "Skew:                          -0.954   Prob(JB):                         0.00\n",
      "Kurtosis:                      11.473   Cond. No.                         75.3\n",
      "==============================================================================\n",
      "\n",
      "Notes:\n",
      "[1] Standard Errors assume that the covariance matrix of the errors is correctly specified.\n"
     ]
    }
   ],
   "source": [
    "y = df['price']\n",
    "X = df.drop(columns=['price', 'garage', 'grade_1 Cabin', 'grade_2 Substandard'])\n",
    "\n",
    "model = sm.OLS(y, sm.add_constant(X))\n",
    "results = model.fit()\n",
    "\n",
    "print(results.summary())"
   ]
  },
  {
   "cell_type": "markdown",
   "metadata": {},
   "source": [
    "At a glance, it seems like the heat source stuff is the worst. Bottom two grades also don't matter. Years since renovation is trash."
   ]
  }
 ],
 "metadata": {
  "kernelspec": {
   "display_name": "Python 3",
   "language": "python",
   "name": "python3"
  },
  "language_info": {
   "codemirror_mode": {
    "name": "ipython",
    "version": 3
   },
   "file_extension": ".py",
   "mimetype": "text/x-python",
   "name": "python",
   "nbconvert_exporter": "python",
   "pygments_lexer": "ipython3",
   "version": "3.8.5"
  }
 },
 "nbformat": 4,
 "nbformat_minor": 4
}
