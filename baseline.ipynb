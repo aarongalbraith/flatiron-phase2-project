{
 "cells": [
  {
   "cell_type": "code",
   "execution_count": 1,
   "metadata": {},
   "outputs": [],
   "source": [
    "import pandas as pd\n",
    "import matplotlib.pyplot as plt\n",
    "import statsmodels.api as sm\n",
    "import numpy as np\n",
    "\n",
    "df = pd.read_csv('data/kc_house_data.csv')"
   ]
  },
  {
   "cell_type": "code",
   "execution_count": 2,
   "metadata": {},
   "outputs": [],
   "source": [
    "# make subsets of the columns\n",
    "numeric_continuous = ['sqft_living', 'sqft_lot', 'sqft_above', 'sqft_basement', 'sqft_garage', 'sqft_patio']\n",
    "numeric_discrete = ['bedrooms', 'bathrooms', 'floors', 'yr_built', 'yr_renovated']\n",
    "categorical = ['waterfront', 'greenbelt', 'nuisance', 'view', 'condition', 'grade', 'heat_source', 'sewer_system']"
   ]
  },
  {
   "cell_type": "code",
   "execution_count": 3,
   "metadata": {},
   "outputs": [],
   "source": [
    "df_numeric_continuous = df[numeric_continuous].copy()\n",
    "for column in numeric_continuous:\n",
    "    df_numeric_continuous[column] = df_numeric_continuous[column] - df_numeric_continuous[column].mean()\n",
    "\n",
    "df_numeric_discrete = df[numeric_discrete].copy()\n",
    "\n",
    "df_categorical = df[categorical].copy()\n",
    "df_categorical = pd.get_dummies(df_categorical, columns = categorical)\n",
    "df_categorical.drop(columns = ['waterfront_NO', 'greenbelt_NO', 'nuisance_NO', 'view_NONE',\n",
    "                               'condition_Average', 'grade_7 Average', 'heat_source_Other'], axis = 1, inplace = True)"
   ]
  },
  {
   "cell_type": "code",
   "execution_count": 7,
   "metadata": {},
   "outputs": [
    {
     "name": "stdout",
     "output_type": "stream",
     "text": [
      "                            OLS Regression Results                            \n",
      "==============================================================================\n",
      "Dep. Variable:                  price   R-squared:                       0.528\n",
      "Model:                            OLS   Adj. R-squared:                  0.527\n",
      "Method:                 Least Squares   F-statistic:                     766.0\n",
      "Date:                Tue, 21 Feb 2023   Prob (F-statistic):               0.00\n",
      "Time:                        14:00:44   Log-Likelihood:            -4.4477e+05\n",
      "No. Observations:               30155   AIC:                         8.896e+05\n",
      "Df Residuals:                   30110   BIC:                         8.900e+05\n",
      "Df Model:                          44                                         \n",
      "Covariance Type:            nonrobust                                         \n",
      "===================================================================================================\n",
      "                                      coef    std err          t      P>|t|      [0.025      0.975]\n",
      "---------------------------------------------------------------------------------------------------\n",
      "const                            5.898e+06   4.16e+05     14.193      0.000    5.08e+06    6.71e+06\n",
      "sqft_living                        96.9456     16.947      5.720      0.000      63.728     130.163\n",
      "sqft_lot                            0.2880      0.064      4.489      0.000       0.162       0.414\n",
      "sqft_above                        216.5401     17.221     12.574      0.000     182.787     250.294\n",
      "sqft_basement                     130.9763     12.773     10.254      0.000     105.941     156.011\n",
      "sqft_garage                      -182.9108     17.686    -10.342      0.000    -217.576    -148.245\n",
      "sqft_patio                        137.6892     16.648      8.271      0.000     105.059     170.319\n",
      "bedrooms                        -5.704e+04   5172.448    -11.028      0.000   -6.72e+04   -4.69e+04\n",
      "bathrooms                        9.435e+04   7385.435     12.775      0.000    7.99e+04    1.09e+05\n",
      "floors                          -5.842e+04   9180.092     -6.363      0.000   -7.64e+04   -4.04e+04\n",
      "yr_built                        -2666.4916    186.252    -14.317      0.000   -3031.553   -2301.430\n",
      "yr_renovated                       46.9791      9.321      5.040      0.000      28.710      65.249\n",
      "waterfront_YES                   7.433e+05   3.29e+04     22.620      0.000    6.79e+05    8.08e+05\n",
      "greenbelt_YES                   -1739.6647   2.28e+04     -0.076      0.939   -4.65e+04     4.3e+04\n",
      "nuisance_YES                     5.509e+04   9557.132      5.764      0.000    3.64e+04    7.38e+04\n",
      "view_AVERAGE                     3.498e+04   1.52e+04      2.307      0.021    5258.492    6.47e+04\n",
      "view_EXCELLENT                   6.616e+05   3.21e+04     20.589      0.000    5.99e+05    7.25e+05\n",
      "view_FAIR                        2.114e+05    4.2e+04      5.033      0.000    1.29e+05    2.94e+05\n",
      "view_GOOD                        3.378e+04   2.21e+04      1.528      0.127   -9554.136    7.71e+04\n",
      "condition_Fair                  -9.882e+04   4.16e+04     -2.375      0.018    -1.8e+05   -1.73e+04\n",
      "condition_Good                   3.866e+04   9116.035      4.241      0.000    2.08e+04    5.65e+04\n",
      "condition_Poor                   -1.08e+05      8e+04     -1.350      0.177   -2.65e+05    4.88e+04\n",
      "condition_Very Good               1.01e+05   1.29e+04      7.823      0.000    7.57e+04    1.26e+05\n",
      "grade_1 Cabin                    8.476e+05   4.54e+05      1.868      0.062   -4.15e+04    1.74e+06\n",
      "grade_10 Very Good               9.361e+05   2.22e+04     42.159      0.000    8.93e+05     9.8e+05\n",
      "grade_11 Excellent               1.744e+06   3.65e+04     47.802      0.000    1.67e+06    1.82e+06\n",
      "grade_12 Luxury                  2.759e+06   6.21e+04     44.438      0.000    2.64e+06    2.88e+06\n",
      "grade_13 Mansion                 4.203e+06   1.33e+05     31.674      0.000    3.94e+06    4.46e+06\n",
      "grade_2 Substandard             -1.914e+05   4.49e+05     -0.427      0.670   -1.07e+06    6.88e+05\n",
      "grade_3 Poor                    -1.429e+05   1.81e+05     -0.789      0.430   -4.98e+05    2.12e+05\n",
      "grade_4 Low                     -6.409e+04   8.86e+04     -0.723      0.469   -2.38e+05     1.1e+05\n",
      "grade_5 Fair                     -9.03e+04   3.28e+04     -2.749      0.006   -1.55e+05   -2.59e+04\n",
      "grade_6 Low Average             -8.103e+04   1.38e+04     -5.872      0.000   -1.08e+05    -5.4e+04\n",
      "grade_8 Good                     1.738e+05   9901.247     17.549      0.000    1.54e+05    1.93e+05\n",
      "grade_9 Better                   4.949e+05   1.46e+04     33.979      0.000    4.66e+05    5.23e+05\n",
      "heat_source_Electricity          7.052e+04   9.06e+04      0.778      0.437   -1.07e+05    2.48e+05\n",
      "heat_source_Electricity/Solar   -2523.1602   1.21e+05     -0.021      0.983    -2.4e+05    2.35e+05\n",
      "heat_source_Gas                  7.858e+04   9.07e+04      0.866      0.386   -9.93e+04    2.56e+05\n",
      "heat_source_Gas/Solar            2.516e+05   1.11e+05      2.268      0.023    3.42e+04    4.69e+05\n",
      "heat_source_Oil                   8.13e+04   9.13e+04      0.890      0.373   -9.76e+04     2.6e+05\n",
      "heat_source_Oil/Solar            2.206e+04   3.21e+05      0.069      0.945   -6.08e+05    6.52e+05\n",
      "sewer_system_PRIVATE             3.077e+04   1.71e+05      0.180      0.858   -3.05e+05    3.67e+05\n",
      "sewer_system_PRIVATE RESTRICTED -5.824e+05   3.07e+05     -1.895      0.058   -1.18e+06    2.01e+04\n",
      "sewer_system_PUBLIC              2.436e+05   1.71e+05      1.423      0.155    -9.2e+04    5.79e+05\n",
      "sewer_system_PUBLIC RESTRICTED   1.736e+05   3.95e+05      0.440      0.660      -6e+05    9.48e+05\n",
      "==============================================================================\n",
      "Omnibus:                    42194.677   Durbin-Watson:                   1.820\n",
      "Prob(Omnibus):                  0.000   Jarque-Bera (JB):         49304210.482\n",
      "Skew:                           7.675   Prob(JB):                         0.00\n",
      "Kurtosis:                     200.497   Cond. No.                     9.02e+06\n",
      "==============================================================================\n",
      "\n",
      "Notes:\n",
      "[1] Standard Errors assume that the covariance matrix of the errors is correctly specified.\n",
      "[2] The condition number is large, 9.02e+06. This might indicate that there are\n",
      "strong multicollinearity or other numerical problems.\n"
     ]
    }
   ],
   "source": [
    "y = df['price']\n",
    "X_baseline = pd.concat([df_numeric_continuous, df_numeric_discrete, df_categorical], axis = 1)\n",
    "\n",
    "baseline_model = sm.OLS(y, sm.add_constant(X_baseline))\n",
    "baseline_results = baseline_model.fit()\n",
    "\n",
    "print(baseline_results.summary())"
   ]
  }
 ],
 "metadata": {
  "kernelspec": {
   "display_name": "Python 3",
   "language": "python",
   "name": "python3"
  },
  "language_info": {
   "codemirror_mode": {
    "name": "ipython",
    "version": 3
   },
   "file_extension": ".py",
   "mimetype": "text/x-python",
   "name": "python",
   "nbconvert_exporter": "python",
   "pygments_lexer": "ipython3",
   "version": "3.8.5"
  }
 },
 "nbformat": 4,
 "nbformat_minor": 4
}
