{
 "cells": [
  {
   "cell_type": "code",
   "execution_count": 1,
   "metadata": {},
   "outputs": [],
   "source": [
    "import pandas as pd\n",
    "import matplotlib.pyplot as plt\n",
    "import statsmodels.api as sm\n",
    "import numpy as np\n",
    "\n",
    "df = pd.read_csv('data/kc_house_data.csv')"
   ]
  },
  {
   "cell_type": "code",
   "execution_count": 2,
   "metadata": {},
   "outputs": [],
   "source": [
    "def view(x):\n",
    "    if x == 'NONE':\n",
    "        return 0\n",
    "    elif x == 'FAIR':\n",
    "        return 1\n",
    "    elif x == 'AVERAGE':\n",
    "        return 2\n",
    "    elif x == 'GOOD':\n",
    "        return 3\n",
    "    elif x == 'EXCELLENT':\n",
    "        return 4\n",
    "\n",
    "df['view'] = df['view'].apply(lambda x: view(x))\n",
    "\n",
    "def condition(x):\n",
    "    if x == 'Poor':\n",
    "        return 0\n",
    "    elif x == 'Fair':\n",
    "        return 1\n",
    "    elif x == 'Average':\n",
    "        return 2\n",
    "    elif x == 'Good':\n",
    "        return 3\n",
    "    elif x == 'Very Good':\n",
    "        return 4\n",
    "\n",
    "df['condition'] = df['condition'].apply(lambda x: condition(x))\n",
    "\n",
    "df['grade'] = df['grade'].apply(lambda x: int(x[:2].strip()))"
   ]
  },
  {
   "cell_type": "code",
   "execution_count": 3,
   "metadata": {},
   "outputs": [],
   "source": [
    "# make subsets of the columns\n",
    "numeric_continuous = ['sqft_living', 'sqft_lot', 'sqft_above', 'sqft_basement', 'sqft_garage', 'sqft_patio']\n",
    "numeric_discrete = ['bedrooms', 'bathrooms', 'floors', 'yr_built', 'yr_renovated', 'view', 'condition', 'grade']\n",
    "categorical = ['waterfront', 'greenbelt', 'nuisance', 'heat_source', 'sewer_system']"
   ]
  },
  {
   "cell_type": "code",
   "execution_count": 5,
   "metadata": {},
   "outputs": [],
   "source": [
    "df_numeric_continuous = df[numeric_continuous].copy()\n",
    "for column in numeric_continuous:\n",
    "    df_numeric_continuous[column] = df_numeric_continuous[column] - df_numeric_continuous[column].mean()\n",
    "\n",
    "df_numeric_discrete = df[numeric_discrete].copy()\n",
    "\n",
    "df_categorical = df[categorical].copy()\n",
    "df_categorical = pd.get_dummies(df_categorical, columns = categorical)\n",
    "df_categorical.drop(columns = ['waterfront_NO', 'greenbelt_NO',\n",
    "                               'nuisance_NO', 'heat_source_Other'], axis = 1, inplace = True)"
   ]
  },
  {
   "cell_type": "code",
   "execution_count": 6,
   "metadata": {},
   "outputs": [
    {
     "name": "stdout",
     "output_type": "stream",
     "text": [
      "                            OLS Regression Results                            \n",
      "==============================================================================\n",
      "Dep. Variable:                  price   R-squared:                       0.491\n",
      "Model:                            OLS   Adj. R-squared:                  0.491\n",
      "Method:                 Least Squares   F-statistic:                     1078.\n",
      "Date:                Tue, 21 Feb 2023   Prob (F-statistic):               0.00\n",
      "Time:                        17:41:06   Log-Likelihood:            -4.4590e+05\n",
      "No. Observations:               30155   AIC:                         8.919e+05\n",
      "Df Residuals:                   30127   BIC:                         8.921e+05\n",
      "Df Model:                          27                                         \n",
      "Covariance Type:            nonrobust                                         \n",
      "===================================================================================================\n",
      "                                      coef    std err          t      P>|t|      [0.025      0.975]\n",
      "---------------------------------------------------------------------------------------------------\n",
      "const                            7.237e+06   4.12e+05     17.578      0.000    6.43e+06    8.04e+06\n",
      "sqft_living                       167.4651     17.484      9.578      0.000     133.195     201.735\n",
      "sqft_lot                            0.2874      0.066      4.325      0.000       0.157       0.418\n",
      "sqft_above                        261.1112     17.808     14.663      0.000     226.208     296.015\n",
      "sqft_basement                     110.3638     13.185      8.371      0.000      84.521     136.206\n",
      "sqft_garage                      -191.2415     18.263    -10.471      0.000    -227.039    -155.444\n",
      "sqft_patio                        144.2080     17.254      8.358      0.000     110.390     178.026\n",
      "bedrooms                        -1.088e+05   5212.861    -20.879      0.000   -1.19e+05   -9.86e+04\n",
      "bathrooms                        9.467e+04   7631.054     12.406      0.000    7.97e+04     1.1e+05\n",
      "floors                           -1.09e+05   9391.414    -11.601      0.000   -1.27e+05   -9.05e+04\n",
      "yr_built                        -3945.2342    187.845    -21.003      0.000   -4313.419   -3577.049\n",
      "yr_renovated                       20.0092      9.591      2.086      0.037       1.209      38.809\n",
      "view                             6.402e+04   5145.761     12.440      0.000    5.39e+04    7.41e+04\n",
      "condition                        3.495e+04   5945.343      5.879      0.000    2.33e+04    4.66e+04\n",
      "grade                            2.587e+05   5437.182     47.589      0.000    2.48e+05    2.69e+05\n",
      "waterfront_YES                   1.014e+06   3.18e+04     31.864      0.000    9.51e+05    1.08e+06\n",
      "greenbelt_YES                    3.462e+04   2.37e+04      1.463      0.143   -1.18e+04     8.1e+04\n",
      "nuisance_YES                     6.911e+04   9910.087      6.974      0.000    4.97e+04    8.85e+04\n",
      "heat_source_Electricity         -1.907e+05   9.01e+04     -2.117      0.034   -3.67e+05   -1.41e+04\n",
      "heat_source_Electricity/Solar   -2.749e+05   1.23e+05     -2.241      0.025   -5.15e+05   -3.45e+04\n",
      "heat_source_Gas                 -2.245e+05   9.02e+04     -2.490      0.013   -4.01e+05   -4.78e+04\n",
      "heat_source_Gas/Solar           -5.541e+04   1.12e+05     -0.495      0.621   -2.75e+05    1.64e+05\n",
      "heat_source_Oil                 -2.286e+05   9.07e+04     -2.521      0.012   -4.06e+05   -5.09e+04\n",
      "heat_source_Oil/Solar            -3.22e+05   3.32e+05     -0.969      0.332   -9.73e+05    3.29e+05\n",
      "sewer_system_PRIVATE            -1.139e+05   1.72e+05     -0.663      0.508   -4.51e+05    2.23e+05\n",
      "sewer_system_PRIVATE RESTRICTED -2.965e+05   3.12e+05     -0.949      0.342   -9.09e+05    3.16e+05\n",
      "sewer_system_PUBLIC              1.159e+05   1.72e+05      0.675      0.500   -2.21e+05    4.52e+05\n",
      "sewer_system_PUBLIC RESTRICTED   6303.9146   4.07e+05      0.015      0.988   -7.92e+05    8.05e+05\n",
      "==============================================================================\n",
      "Omnibus:                    43268.969   Durbin-Watson:                   1.829\n",
      "Prob(Omnibus):                  0.000   Jarque-Bera (JB):         50910097.796\n",
      "Skew:                           8.090   Prob(JB):                         0.00\n",
      "Kurtosis:                     203.641   Cond. No.                     8.02e+06\n",
      "==============================================================================\n",
      "\n",
      "Notes:\n",
      "[1] Standard Errors assume that the covariance matrix of the errors is correctly specified.\n",
      "[2] The condition number is large, 8.02e+06. This might indicate that there are\n",
      "strong multicollinearity or other numerical problems.\n"
     ]
    }
   ],
   "source": [
    "y = df['price']\n",
    "X_baseline = pd.concat([df_numeric_continuous, df_numeric_discrete, df_categorical], axis = 1)\n",
    "\n",
    "baseline_model = sm.OLS(y, sm.add_constant(X_baseline))\n",
    "baseline_results = baseline_model.fit()\n",
    "\n",
    "print(baseline_results.summary())"
   ]
  }
 ],
 "metadata": {
  "kernelspec": {
   "display_name": "Python 3",
   "language": "python",
   "name": "python3"
  },
  "language_info": {
   "codemirror_mode": {
    "name": "ipython",
    "version": 3
   },
   "file_extension": ".py",
   "mimetype": "text/x-python",
   "name": "python",
   "nbconvert_exporter": "python",
   "pygments_lexer": "ipython3",
   "version": "3.8.5"
  }
 },
 "nbformat": 4,
 "nbformat_minor": 4
}
