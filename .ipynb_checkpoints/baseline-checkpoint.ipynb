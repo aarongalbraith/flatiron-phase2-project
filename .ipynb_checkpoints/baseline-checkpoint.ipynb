{
 "cells": [
  {
   "cell_type": "markdown",
   "metadata": {},
   "source": [
    "# Business Understanding"
   ]
  },
  {
   "cell_type": "markdown",
   "metadata": {},
   "source": [
    "# Data Understanding\n",
    "First we'll import the data and try to understand its features."
   ]
  },
  {
   "cell_type": "code",
   "execution_count": 1,
   "metadata": {},
   "outputs": [],
   "source": [
    "import pandas as pd\n",
    "import matplotlib.pyplot as plt\n",
    "from matplotlib import colors\n",
    "%matplotlib nbagg\n",
    "import statsmodels.api as sm\n",
    "import numpy as np\n",
    "import scipy.stats as stats\n",
    "import seaborn as sns\n",
    "\n",
    "df = pd.read_csv('data/kc_house_data.csv')"
   ]
  },
  {
   "cell_type": "code",
   "execution_count": 2,
   "metadata": {
    "scrolled": false
   },
   "outputs": [
    {
     "data": {
      "text/plain": [
       "Index(['id', 'date', 'price', 'bedrooms', 'bathrooms', 'sqft_living',\n",
       "       'sqft_lot', 'floors', 'waterfront', 'greenbelt', 'nuisance', 'view',\n",
       "       'condition', 'grade', 'heat_source', 'sewer_system', 'sqft_above',\n",
       "       'sqft_basement', 'sqft_garage', 'sqft_patio', 'yr_built',\n",
       "       'yr_renovated', 'address', 'lat', 'long'],\n",
       "      dtype='object')"
      ]
     },
     "execution_count": 2,
     "metadata": {},
     "output_type": "execute_result"
    }
   ],
   "source": [
    "df.columns"
   ]
  },
  {
   "cell_type": "code",
   "execution_count": 3,
   "metadata": {
    "scrolled": false
   },
   "outputs": [
    {
     "data": {
      "application/javascript": [
       "/* Put everything inside the global mpl namespace */\n",
       "/* global mpl */\n",
       "window.mpl = {};\n",
       "\n",
       "mpl.get_websocket_type = function () {\n",
       "    if (typeof WebSocket !== 'undefined') {\n",
       "        return WebSocket;\n",
       "    } else if (typeof MozWebSocket !== 'undefined') {\n",
       "        return MozWebSocket;\n",
       "    } else {\n",
       "        alert(\n",
       "            'Your browser does not have WebSocket support. ' +\n",
       "                'Please try Chrome, Safari or Firefox ≥ 6. ' +\n",
       "                'Firefox 4 and 5 are also supported but you ' +\n",
       "                'have to enable WebSockets in about:config.'\n",
       "        );\n",
       "    }\n",
       "};\n",
       "\n",
       "mpl.figure = function (figure_id, websocket, ondownload, parent_element) {\n",
       "    this.id = figure_id;\n",
       "\n",
       "    this.ws = websocket;\n",
       "\n",
       "    this.supports_binary = this.ws.binaryType !== undefined;\n",
       "\n",
       "    if (!this.supports_binary) {\n",
       "        var warnings = document.getElementById('mpl-warnings');\n",
       "        if (warnings) {\n",
       "            warnings.style.display = 'block';\n",
       "            warnings.textContent =\n",
       "                'This browser does not support binary websocket messages. ' +\n",
       "                'Performance may be slow.';\n",
       "        }\n",
       "    }\n",
       "\n",
       "    this.imageObj = new Image();\n",
       "\n",
       "    this.context = undefined;\n",
       "    this.message = undefined;\n",
       "    this.canvas = undefined;\n",
       "    this.rubberband_canvas = undefined;\n",
       "    this.rubberband_context = undefined;\n",
       "    this.format_dropdown = undefined;\n",
       "\n",
       "    this.image_mode = 'full';\n",
       "\n",
       "    this.root = document.createElement('div');\n",
       "    this.root.setAttribute('style', 'display: inline-block');\n",
       "    this._root_extra_style(this.root);\n",
       "\n",
       "    parent_element.appendChild(this.root);\n",
       "\n",
       "    this._init_header(this);\n",
       "    this._init_canvas(this);\n",
       "    this._init_toolbar(this);\n",
       "\n",
       "    var fig = this;\n",
       "\n",
       "    this.waiting = false;\n",
       "\n",
       "    this.ws.onopen = function () {\n",
       "        fig.send_message('supports_binary', { value: fig.supports_binary });\n",
       "        fig.send_message('send_image_mode', {});\n",
       "        if (mpl.ratio !== 1) {\n",
       "            fig.send_message('set_dpi_ratio', { dpi_ratio: mpl.ratio });\n",
       "        }\n",
       "        fig.send_message('refresh', {});\n",
       "    };\n",
       "\n",
       "    this.imageObj.onload = function () {\n",
       "        if (fig.image_mode === 'full') {\n",
       "            // Full images could contain transparency (where diff images\n",
       "            // almost always do), so we need to clear the canvas so that\n",
       "            // there is no ghosting.\n",
       "            fig.context.clearRect(0, 0, fig.canvas.width, fig.canvas.height);\n",
       "        }\n",
       "        fig.context.drawImage(fig.imageObj, 0, 0);\n",
       "    };\n",
       "\n",
       "    this.imageObj.onunload = function () {\n",
       "        fig.ws.close();\n",
       "    };\n",
       "\n",
       "    this.ws.onmessage = this._make_on_message_function(this);\n",
       "\n",
       "    this.ondownload = ondownload;\n",
       "};\n",
       "\n",
       "mpl.figure.prototype._init_header = function () {\n",
       "    var titlebar = document.createElement('div');\n",
       "    titlebar.classList =\n",
       "        'ui-dialog-titlebar ui-widget-header ui-corner-all ui-helper-clearfix';\n",
       "    var titletext = document.createElement('div');\n",
       "    titletext.classList = 'ui-dialog-title';\n",
       "    titletext.setAttribute(\n",
       "        'style',\n",
       "        'width: 100%; text-align: center; padding: 3px;'\n",
       "    );\n",
       "    titlebar.appendChild(titletext);\n",
       "    this.root.appendChild(titlebar);\n",
       "    this.header = titletext;\n",
       "};\n",
       "\n",
       "mpl.figure.prototype._canvas_extra_style = function (_canvas_div) {};\n",
       "\n",
       "mpl.figure.prototype._root_extra_style = function (_canvas_div) {};\n",
       "\n",
       "mpl.figure.prototype._init_canvas = function () {\n",
       "    var fig = this;\n",
       "\n",
       "    var canvas_div = (this.canvas_div = document.createElement('div'));\n",
       "    canvas_div.setAttribute(\n",
       "        'style',\n",
       "        'border: 1px solid #ddd;' +\n",
       "            'box-sizing: content-box;' +\n",
       "            'clear: both;' +\n",
       "            'min-height: 1px;' +\n",
       "            'min-width: 1px;' +\n",
       "            'outline: 0;' +\n",
       "            'overflow: hidden;' +\n",
       "            'position: relative;' +\n",
       "            'resize: both;'\n",
       "    );\n",
       "\n",
       "    function on_keyboard_event_closure(name) {\n",
       "        return function (event) {\n",
       "            return fig.key_event(event, name);\n",
       "        };\n",
       "    }\n",
       "\n",
       "    canvas_div.addEventListener(\n",
       "        'keydown',\n",
       "        on_keyboard_event_closure('key_press')\n",
       "    );\n",
       "    canvas_div.addEventListener(\n",
       "        'keyup',\n",
       "        on_keyboard_event_closure('key_release')\n",
       "    );\n",
       "\n",
       "    this._canvas_extra_style(canvas_div);\n",
       "    this.root.appendChild(canvas_div);\n",
       "\n",
       "    var canvas = (this.canvas = document.createElement('canvas'));\n",
       "    canvas.classList.add('mpl-canvas');\n",
       "    canvas.setAttribute('style', 'box-sizing: content-box;');\n",
       "\n",
       "    this.context = canvas.getContext('2d');\n",
       "\n",
       "    var backingStore =\n",
       "        this.context.backingStorePixelRatio ||\n",
       "        this.context.webkitBackingStorePixelRatio ||\n",
       "        this.context.mozBackingStorePixelRatio ||\n",
       "        this.context.msBackingStorePixelRatio ||\n",
       "        this.context.oBackingStorePixelRatio ||\n",
       "        this.context.backingStorePixelRatio ||\n",
       "        1;\n",
       "\n",
       "    mpl.ratio = (window.devicePixelRatio || 1) / backingStore;\n",
       "\n",
       "    var rubberband_canvas = (this.rubberband_canvas = document.createElement(\n",
       "        'canvas'\n",
       "    ));\n",
       "    rubberband_canvas.setAttribute(\n",
       "        'style',\n",
       "        'box-sizing: content-box; position: absolute; left: 0; top: 0; z-index: 1;'\n",
       "    );\n",
       "\n",
       "    var resizeObserver = new ResizeObserver(function (entries) {\n",
       "        var nentries = entries.length;\n",
       "        for (var i = 0; i < nentries; i++) {\n",
       "            var entry = entries[i];\n",
       "            var width, height;\n",
       "            if (entry.contentBoxSize) {\n",
       "                if (entry.contentBoxSize instanceof Array) {\n",
       "                    // Chrome 84 implements new version of spec.\n",
       "                    width = entry.contentBoxSize[0].inlineSize;\n",
       "                    height = entry.contentBoxSize[0].blockSize;\n",
       "                } else {\n",
       "                    // Firefox implements old version of spec.\n",
       "                    width = entry.contentBoxSize.inlineSize;\n",
       "                    height = entry.contentBoxSize.blockSize;\n",
       "                }\n",
       "            } else {\n",
       "                // Chrome <84 implements even older version of spec.\n",
       "                width = entry.contentRect.width;\n",
       "                height = entry.contentRect.height;\n",
       "            }\n",
       "\n",
       "            // Keep the size of the canvas and rubber band canvas in sync with\n",
       "            // the canvas container.\n",
       "            if (entry.devicePixelContentBoxSize) {\n",
       "                // Chrome 84 implements new version of spec.\n",
       "                canvas.setAttribute(\n",
       "                    'width',\n",
       "                    entry.devicePixelContentBoxSize[0].inlineSize\n",
       "                );\n",
       "                canvas.setAttribute(\n",
       "                    'height',\n",
       "                    entry.devicePixelContentBoxSize[0].blockSize\n",
       "                );\n",
       "            } else {\n",
       "                canvas.setAttribute('width', width * mpl.ratio);\n",
       "                canvas.setAttribute('height', height * mpl.ratio);\n",
       "            }\n",
       "            canvas.setAttribute(\n",
       "                'style',\n",
       "                'width: ' + width + 'px; height: ' + height + 'px;'\n",
       "            );\n",
       "\n",
       "            rubberband_canvas.setAttribute('width', width);\n",
       "            rubberband_canvas.setAttribute('height', height);\n",
       "\n",
       "            // And update the size in Python. We ignore the initial 0/0 size\n",
       "            // that occurs as the element is placed into the DOM, which should\n",
       "            // otherwise not happen due to the minimum size styling.\n",
       "            if (width != 0 && height != 0) {\n",
       "                fig.request_resize(width, height);\n",
       "            }\n",
       "        }\n",
       "    });\n",
       "    resizeObserver.observe(canvas_div);\n",
       "\n",
       "    function on_mouse_event_closure(name) {\n",
       "        return function (event) {\n",
       "            return fig.mouse_event(event, name);\n",
       "        };\n",
       "    }\n",
       "\n",
       "    rubberband_canvas.addEventListener(\n",
       "        'mousedown',\n",
       "        on_mouse_event_closure('button_press')\n",
       "    );\n",
       "    rubberband_canvas.addEventListener(\n",
       "        'mouseup',\n",
       "        on_mouse_event_closure('button_release')\n",
       "    );\n",
       "    // Throttle sequential mouse events to 1 every 20ms.\n",
       "    rubberband_canvas.addEventListener(\n",
       "        'mousemove',\n",
       "        on_mouse_event_closure('motion_notify')\n",
       "    );\n",
       "\n",
       "    rubberband_canvas.addEventListener(\n",
       "        'mouseenter',\n",
       "        on_mouse_event_closure('figure_enter')\n",
       "    );\n",
       "    rubberband_canvas.addEventListener(\n",
       "        'mouseleave',\n",
       "        on_mouse_event_closure('figure_leave')\n",
       "    );\n",
       "\n",
       "    canvas_div.addEventListener('wheel', function (event) {\n",
       "        if (event.deltaY < 0) {\n",
       "            event.step = 1;\n",
       "        } else {\n",
       "            event.step = -1;\n",
       "        }\n",
       "        on_mouse_event_closure('scroll')(event);\n",
       "    });\n",
       "\n",
       "    canvas_div.appendChild(canvas);\n",
       "    canvas_div.appendChild(rubberband_canvas);\n",
       "\n",
       "    this.rubberband_context = rubberband_canvas.getContext('2d');\n",
       "    this.rubberband_context.strokeStyle = '#000000';\n",
       "\n",
       "    this._resize_canvas = function (width, height, forward) {\n",
       "        if (forward) {\n",
       "            canvas_div.style.width = width + 'px';\n",
       "            canvas_div.style.height = height + 'px';\n",
       "        }\n",
       "    };\n",
       "\n",
       "    // Disable right mouse context menu.\n",
       "    this.rubberband_canvas.addEventListener('contextmenu', function (_e) {\n",
       "        event.preventDefault();\n",
       "        return false;\n",
       "    });\n",
       "\n",
       "    function set_focus() {\n",
       "        canvas.focus();\n",
       "        canvas_div.focus();\n",
       "    }\n",
       "\n",
       "    window.setTimeout(set_focus, 100);\n",
       "};\n",
       "\n",
       "mpl.figure.prototype._init_toolbar = function () {\n",
       "    var fig = this;\n",
       "\n",
       "    var toolbar = document.createElement('div');\n",
       "    toolbar.classList = 'mpl-toolbar';\n",
       "    this.root.appendChild(toolbar);\n",
       "\n",
       "    function on_click_closure(name) {\n",
       "        return function (_event) {\n",
       "            return fig.toolbar_button_onclick(name);\n",
       "        };\n",
       "    }\n",
       "\n",
       "    function on_mouseover_closure(tooltip) {\n",
       "        return function (event) {\n",
       "            if (!event.currentTarget.disabled) {\n",
       "                return fig.toolbar_button_onmouseover(tooltip);\n",
       "            }\n",
       "        };\n",
       "    }\n",
       "\n",
       "    fig.buttons = {};\n",
       "    var buttonGroup = document.createElement('div');\n",
       "    buttonGroup.classList = 'mpl-button-group';\n",
       "    for (var toolbar_ind in mpl.toolbar_items) {\n",
       "        var name = mpl.toolbar_items[toolbar_ind][0];\n",
       "        var tooltip = mpl.toolbar_items[toolbar_ind][1];\n",
       "        var image = mpl.toolbar_items[toolbar_ind][2];\n",
       "        var method_name = mpl.toolbar_items[toolbar_ind][3];\n",
       "\n",
       "        if (!name) {\n",
       "            /* Instead of a spacer, we start a new button group. */\n",
       "            if (buttonGroup.hasChildNodes()) {\n",
       "                toolbar.appendChild(buttonGroup);\n",
       "            }\n",
       "            buttonGroup = document.createElement('div');\n",
       "            buttonGroup.classList = 'mpl-button-group';\n",
       "            continue;\n",
       "        }\n",
       "\n",
       "        var button = (fig.buttons[name] = document.createElement('button'));\n",
       "        button.classList = 'mpl-widget';\n",
       "        button.setAttribute('role', 'button');\n",
       "        button.setAttribute('aria-disabled', 'false');\n",
       "        button.addEventListener('click', on_click_closure(method_name));\n",
       "        button.addEventListener('mouseover', on_mouseover_closure(tooltip));\n",
       "\n",
       "        var icon_img = document.createElement('img');\n",
       "        icon_img.src = '_images/' + image + '.png';\n",
       "        icon_img.srcset = '_images/' + image + '_large.png 2x';\n",
       "        icon_img.alt = tooltip;\n",
       "        button.appendChild(icon_img);\n",
       "\n",
       "        buttonGroup.appendChild(button);\n",
       "    }\n",
       "\n",
       "    if (buttonGroup.hasChildNodes()) {\n",
       "        toolbar.appendChild(buttonGroup);\n",
       "    }\n",
       "\n",
       "    var fmt_picker = document.createElement('select');\n",
       "    fmt_picker.classList = 'mpl-widget';\n",
       "    toolbar.appendChild(fmt_picker);\n",
       "    this.format_dropdown = fmt_picker;\n",
       "\n",
       "    for (var ind in mpl.extensions) {\n",
       "        var fmt = mpl.extensions[ind];\n",
       "        var option = document.createElement('option');\n",
       "        option.selected = fmt === mpl.default_extension;\n",
       "        option.innerHTML = fmt;\n",
       "        fmt_picker.appendChild(option);\n",
       "    }\n",
       "\n",
       "    var status_bar = document.createElement('span');\n",
       "    status_bar.classList = 'mpl-message';\n",
       "    toolbar.appendChild(status_bar);\n",
       "    this.message = status_bar;\n",
       "};\n",
       "\n",
       "mpl.figure.prototype.request_resize = function (x_pixels, y_pixels) {\n",
       "    // Request matplotlib to resize the figure. Matplotlib will then trigger a resize in the client,\n",
       "    // which will in turn request a refresh of the image.\n",
       "    this.send_message('resize', { width: x_pixels, height: y_pixels });\n",
       "};\n",
       "\n",
       "mpl.figure.prototype.send_message = function (type, properties) {\n",
       "    properties['type'] = type;\n",
       "    properties['figure_id'] = this.id;\n",
       "    this.ws.send(JSON.stringify(properties));\n",
       "};\n",
       "\n",
       "mpl.figure.prototype.send_draw_message = function () {\n",
       "    if (!this.waiting) {\n",
       "        this.waiting = true;\n",
       "        this.ws.send(JSON.stringify({ type: 'draw', figure_id: this.id }));\n",
       "    }\n",
       "};\n",
       "\n",
       "mpl.figure.prototype.handle_save = function (fig, _msg) {\n",
       "    var format_dropdown = fig.format_dropdown;\n",
       "    var format = format_dropdown.options[format_dropdown.selectedIndex].value;\n",
       "    fig.ondownload(fig, format);\n",
       "};\n",
       "\n",
       "mpl.figure.prototype.handle_resize = function (fig, msg) {\n",
       "    var size = msg['size'];\n",
       "    if (size[0] !== fig.canvas.width || size[1] !== fig.canvas.height) {\n",
       "        fig._resize_canvas(size[0], size[1], msg['forward']);\n",
       "        fig.send_message('refresh', {});\n",
       "    }\n",
       "};\n",
       "\n",
       "mpl.figure.prototype.handle_rubberband = function (fig, msg) {\n",
       "    var x0 = msg['x0'] / mpl.ratio;\n",
       "    var y0 = (fig.canvas.height - msg['y0']) / mpl.ratio;\n",
       "    var x1 = msg['x1'] / mpl.ratio;\n",
       "    var y1 = (fig.canvas.height - msg['y1']) / mpl.ratio;\n",
       "    x0 = Math.floor(x0) + 0.5;\n",
       "    y0 = Math.floor(y0) + 0.5;\n",
       "    x1 = Math.floor(x1) + 0.5;\n",
       "    y1 = Math.floor(y1) + 0.5;\n",
       "    var min_x = Math.min(x0, x1);\n",
       "    var min_y = Math.min(y0, y1);\n",
       "    var width = Math.abs(x1 - x0);\n",
       "    var height = Math.abs(y1 - y0);\n",
       "\n",
       "    fig.rubberband_context.clearRect(\n",
       "        0,\n",
       "        0,\n",
       "        fig.canvas.width / mpl.ratio,\n",
       "        fig.canvas.height / mpl.ratio\n",
       "    );\n",
       "\n",
       "    fig.rubberband_context.strokeRect(min_x, min_y, width, height);\n",
       "};\n",
       "\n",
       "mpl.figure.prototype.handle_figure_label = function (fig, msg) {\n",
       "    // Updates the figure title.\n",
       "    fig.header.textContent = msg['label'];\n",
       "};\n",
       "\n",
       "mpl.figure.prototype.handle_cursor = function (fig, msg) {\n",
       "    var cursor = msg['cursor'];\n",
       "    switch (cursor) {\n",
       "        case 0:\n",
       "            cursor = 'pointer';\n",
       "            break;\n",
       "        case 1:\n",
       "            cursor = 'default';\n",
       "            break;\n",
       "        case 2:\n",
       "            cursor = 'crosshair';\n",
       "            break;\n",
       "        case 3:\n",
       "            cursor = 'move';\n",
       "            break;\n",
       "    }\n",
       "    fig.rubberband_canvas.style.cursor = cursor;\n",
       "};\n",
       "\n",
       "mpl.figure.prototype.handle_message = function (fig, msg) {\n",
       "    fig.message.textContent = msg['message'];\n",
       "};\n",
       "\n",
       "mpl.figure.prototype.handle_draw = function (fig, _msg) {\n",
       "    // Request the server to send over a new figure.\n",
       "    fig.send_draw_message();\n",
       "};\n",
       "\n",
       "mpl.figure.prototype.handle_image_mode = function (fig, msg) {\n",
       "    fig.image_mode = msg['mode'];\n",
       "};\n",
       "\n",
       "mpl.figure.prototype.handle_history_buttons = function (fig, msg) {\n",
       "    for (var key in msg) {\n",
       "        if (!(key in fig.buttons)) {\n",
       "            continue;\n",
       "        }\n",
       "        fig.buttons[key].disabled = !msg[key];\n",
       "        fig.buttons[key].setAttribute('aria-disabled', !msg[key]);\n",
       "    }\n",
       "};\n",
       "\n",
       "mpl.figure.prototype.handle_navigate_mode = function (fig, msg) {\n",
       "    if (msg['mode'] === 'PAN') {\n",
       "        fig.buttons['Pan'].classList.add('active');\n",
       "        fig.buttons['Zoom'].classList.remove('active');\n",
       "    } else if (msg['mode'] === 'ZOOM') {\n",
       "        fig.buttons['Pan'].classList.remove('active');\n",
       "        fig.buttons['Zoom'].classList.add('active');\n",
       "    } else {\n",
       "        fig.buttons['Pan'].classList.remove('active');\n",
       "        fig.buttons['Zoom'].classList.remove('active');\n",
       "    }\n",
       "};\n",
       "\n",
       "mpl.figure.prototype.updated_canvas_event = function () {\n",
       "    // Called whenever the canvas gets updated.\n",
       "    this.send_message('ack', {});\n",
       "};\n",
       "\n",
       "// A function to construct a web socket function for onmessage handling.\n",
       "// Called in the figure constructor.\n",
       "mpl.figure.prototype._make_on_message_function = function (fig) {\n",
       "    return function socket_on_message(evt) {\n",
       "        if (evt.data instanceof Blob) {\n",
       "            /* FIXME: We get \"Resource interpreted as Image but\n",
       "             * transferred with MIME type text/plain:\" errors on\n",
       "             * Chrome.  But how to set the MIME type?  It doesn't seem\n",
       "             * to be part of the websocket stream */\n",
       "            evt.data.type = 'image/png';\n",
       "\n",
       "            /* Free the memory for the previous frames */\n",
       "            if (fig.imageObj.src) {\n",
       "                (window.URL || window.webkitURL).revokeObjectURL(\n",
       "                    fig.imageObj.src\n",
       "                );\n",
       "            }\n",
       "\n",
       "            fig.imageObj.src = (window.URL || window.webkitURL).createObjectURL(\n",
       "                evt.data\n",
       "            );\n",
       "            fig.updated_canvas_event();\n",
       "            fig.waiting = false;\n",
       "            return;\n",
       "        } else if (\n",
       "            typeof evt.data === 'string' &&\n",
       "            evt.data.slice(0, 21) === 'data:image/png;base64'\n",
       "        ) {\n",
       "            fig.imageObj.src = evt.data;\n",
       "            fig.updated_canvas_event();\n",
       "            fig.waiting = false;\n",
       "            return;\n",
       "        }\n",
       "\n",
       "        var msg = JSON.parse(evt.data);\n",
       "        var msg_type = msg['type'];\n",
       "\n",
       "        // Call the  \"handle_{type}\" callback, which takes\n",
       "        // the figure and JSON message as its only arguments.\n",
       "        try {\n",
       "            var callback = fig['handle_' + msg_type];\n",
       "        } catch (e) {\n",
       "            console.log(\n",
       "                \"No handler for the '\" + msg_type + \"' message type: \",\n",
       "                msg\n",
       "            );\n",
       "            return;\n",
       "        }\n",
       "\n",
       "        if (callback) {\n",
       "            try {\n",
       "                // console.log(\"Handling '\" + msg_type + \"' message: \", msg);\n",
       "                callback(fig, msg);\n",
       "            } catch (e) {\n",
       "                console.log(\n",
       "                    \"Exception inside the 'handler_\" + msg_type + \"' callback:\",\n",
       "                    e,\n",
       "                    e.stack,\n",
       "                    msg\n",
       "                );\n",
       "            }\n",
       "        }\n",
       "    };\n",
       "};\n",
       "\n",
       "// from http://stackoverflow.com/questions/1114465/getting-mouse-location-in-canvas\n",
       "mpl.findpos = function (e) {\n",
       "    //this section is from http://www.quirksmode.org/js/events_properties.html\n",
       "    var targ;\n",
       "    if (!e) {\n",
       "        e = window.event;\n",
       "    }\n",
       "    if (e.target) {\n",
       "        targ = e.target;\n",
       "    } else if (e.srcElement) {\n",
       "        targ = e.srcElement;\n",
       "    }\n",
       "    if (targ.nodeType === 3) {\n",
       "        // defeat Safari bug\n",
       "        targ = targ.parentNode;\n",
       "    }\n",
       "\n",
       "    // pageX,Y are the mouse positions relative to the document\n",
       "    var boundingRect = targ.getBoundingClientRect();\n",
       "    var x = e.pageX - (boundingRect.left + document.body.scrollLeft);\n",
       "    var y = e.pageY - (boundingRect.top + document.body.scrollTop);\n",
       "\n",
       "    return { x: x, y: y };\n",
       "};\n",
       "\n",
       "/*\n",
       " * return a copy of an object with only non-object keys\n",
       " * we need this to avoid circular references\n",
       " * http://stackoverflow.com/a/24161582/3208463\n",
       " */\n",
       "function simpleKeys(original) {\n",
       "    return Object.keys(original).reduce(function (obj, key) {\n",
       "        if (typeof original[key] !== 'object') {\n",
       "            obj[key] = original[key];\n",
       "        }\n",
       "        return obj;\n",
       "    }, {});\n",
       "}\n",
       "\n",
       "mpl.figure.prototype.mouse_event = function (event, name) {\n",
       "    var canvas_pos = mpl.findpos(event);\n",
       "\n",
       "    if (name === 'button_press') {\n",
       "        this.canvas.focus();\n",
       "        this.canvas_div.focus();\n",
       "    }\n",
       "\n",
       "    var x = canvas_pos.x * mpl.ratio;\n",
       "    var y = canvas_pos.y * mpl.ratio;\n",
       "\n",
       "    this.send_message(name, {\n",
       "        x: x,\n",
       "        y: y,\n",
       "        button: event.button,\n",
       "        step: event.step,\n",
       "        guiEvent: simpleKeys(event),\n",
       "    });\n",
       "\n",
       "    /* This prevents the web browser from automatically changing to\n",
       "     * the text insertion cursor when the button is pressed.  We want\n",
       "     * to control all of the cursor setting manually through the\n",
       "     * 'cursor' event from matplotlib */\n",
       "    event.preventDefault();\n",
       "    return false;\n",
       "};\n",
       "\n",
       "mpl.figure.prototype._key_event_extra = function (_event, _name) {\n",
       "    // Handle any extra behaviour associated with a key event\n",
       "};\n",
       "\n",
       "mpl.figure.prototype.key_event = function (event, name) {\n",
       "    // Prevent repeat events\n",
       "    if (name === 'key_press') {\n",
       "        if (event.which === this._key) {\n",
       "            return;\n",
       "        } else {\n",
       "            this._key = event.which;\n",
       "        }\n",
       "    }\n",
       "    if (name === 'key_release') {\n",
       "        this._key = null;\n",
       "    }\n",
       "\n",
       "    var value = '';\n",
       "    if (event.ctrlKey && event.which !== 17) {\n",
       "        value += 'ctrl+';\n",
       "    }\n",
       "    if (event.altKey && event.which !== 18) {\n",
       "        value += 'alt+';\n",
       "    }\n",
       "    if (event.shiftKey && event.which !== 16) {\n",
       "        value += 'shift+';\n",
       "    }\n",
       "\n",
       "    value += 'k';\n",
       "    value += event.which.toString();\n",
       "\n",
       "    this._key_event_extra(event, name);\n",
       "\n",
       "    this.send_message(name, { key: value, guiEvent: simpleKeys(event) });\n",
       "    return false;\n",
       "};\n",
       "\n",
       "mpl.figure.prototype.toolbar_button_onclick = function (name) {\n",
       "    if (name === 'download') {\n",
       "        this.handle_save(this, null);\n",
       "    } else {\n",
       "        this.send_message('toolbar_button', { name: name });\n",
       "    }\n",
       "};\n",
       "\n",
       "mpl.figure.prototype.toolbar_button_onmouseover = function (tooltip) {\n",
       "    this.message.textContent = tooltip;\n",
       "};\n",
       "mpl.toolbar_items = [[\"Home\", \"Reset original view\", \"fa fa-home icon-home\", \"home\"], [\"Back\", \"Back to previous view\", \"fa fa-arrow-left icon-arrow-left\", \"back\"], [\"Forward\", \"Forward to next view\", \"fa fa-arrow-right icon-arrow-right\", \"forward\"], [\"\", \"\", \"\", \"\"], [\"Pan\", \"Left button pans, Right button zooms\\nx/y fixes axis, CTRL fixes aspect\", \"fa fa-arrows icon-move\", \"pan\"], [\"Zoom\", \"Zoom to rectangle\\nx/y fixes axis, CTRL fixes aspect\", \"fa fa-square-o icon-check-empty\", \"zoom\"], [\"\", \"\", \"\", \"\"], [\"Download\", \"Download plot\", \"fa fa-floppy-o icon-save\", \"download\"]];\n",
       "\n",
       "mpl.extensions = [\"eps\", \"jpeg\", \"pdf\", \"png\", \"ps\", \"raw\", \"svg\", \"tif\"];\n",
       "\n",
       "mpl.default_extension = \"png\";/* global mpl */\n",
       "\n",
       "var comm_websocket_adapter = function (comm) {\n",
       "    // Create a \"websocket\"-like object which calls the given IPython comm\n",
       "    // object with the appropriate methods. Currently this is a non binary\n",
       "    // socket, so there is still some room for performance tuning.\n",
       "    var ws = {};\n",
       "\n",
       "    ws.close = function () {\n",
       "        comm.close();\n",
       "    };\n",
       "    ws.send = function (m) {\n",
       "        //console.log('sending', m);\n",
       "        comm.send(m);\n",
       "    };\n",
       "    // Register the callback with on_msg.\n",
       "    comm.on_msg(function (msg) {\n",
       "        //console.log('receiving', msg['content']['data'], msg);\n",
       "        // Pass the mpl event to the overridden (by mpl) onmessage function.\n",
       "        ws.onmessage(msg['content']['data']);\n",
       "    });\n",
       "    return ws;\n",
       "};\n",
       "\n",
       "mpl.mpl_figure_comm = function (comm, msg) {\n",
       "    // This is the function which gets called when the mpl process\n",
       "    // starts-up an IPython Comm through the \"matplotlib\" channel.\n",
       "\n",
       "    var id = msg.content.data.id;\n",
       "    // Get hold of the div created by the display call when the Comm\n",
       "    // socket was opened in Python.\n",
       "    var element = document.getElementById(id);\n",
       "    var ws_proxy = comm_websocket_adapter(comm);\n",
       "\n",
       "    function ondownload(figure, _format) {\n",
       "        window.open(figure.canvas.toDataURL());\n",
       "    }\n",
       "\n",
       "    var fig = new mpl.figure(id, ws_proxy, ondownload, element);\n",
       "\n",
       "    // Call onopen now - mpl needs it, as it is assuming we've passed it a real\n",
       "    // web socket which is closed, not our websocket->open comm proxy.\n",
       "    ws_proxy.onopen();\n",
       "\n",
       "    fig.parent_element = element;\n",
       "    fig.cell_info = mpl.find_output_cell(\"<div id='\" + id + \"'></div>\");\n",
       "    if (!fig.cell_info) {\n",
       "        console.error('Failed to find cell for figure', id, fig);\n",
       "        return;\n",
       "    }\n",
       "};\n",
       "\n",
       "mpl.figure.prototype.handle_close = function (fig, msg) {\n",
       "    var width = fig.canvas.width / mpl.ratio;\n",
       "    fig.root.removeEventListener('remove', this._remove_fig_handler);\n",
       "\n",
       "    // Update the output cell to use the data from the current canvas.\n",
       "    fig.push_to_output();\n",
       "    var dataURL = fig.canvas.toDataURL();\n",
       "    // Re-enable the keyboard manager in IPython - without this line, in FF,\n",
       "    // the notebook keyboard shortcuts fail.\n",
       "    IPython.keyboard_manager.enable();\n",
       "    fig.parent_element.innerHTML =\n",
       "        '<img src=\"' + dataURL + '\" width=\"' + width + '\">';\n",
       "    fig.close_ws(fig, msg);\n",
       "};\n",
       "\n",
       "mpl.figure.prototype.close_ws = function (fig, msg) {\n",
       "    fig.send_message('closing', msg);\n",
       "    // fig.ws.close()\n",
       "};\n",
       "\n",
       "mpl.figure.prototype.push_to_output = function (_remove_interactive) {\n",
       "    // Turn the data on the canvas into data in the output cell.\n",
       "    var width = this.canvas.width / mpl.ratio;\n",
       "    var dataURL = this.canvas.toDataURL();\n",
       "    this.cell_info[1]['text/html'] =\n",
       "        '<img src=\"' + dataURL + '\" width=\"' + width + '\">';\n",
       "};\n",
       "\n",
       "mpl.figure.prototype.updated_canvas_event = function () {\n",
       "    // Tell IPython that the notebook contents must change.\n",
       "    IPython.notebook.set_dirty(true);\n",
       "    this.send_message('ack', {});\n",
       "    var fig = this;\n",
       "    // Wait a second, then push the new image to the DOM so\n",
       "    // that it is saved nicely (might be nice to debounce this).\n",
       "    setTimeout(function () {\n",
       "        fig.push_to_output();\n",
       "    }, 1000);\n",
       "};\n",
       "\n",
       "mpl.figure.prototype._init_toolbar = function () {\n",
       "    var fig = this;\n",
       "\n",
       "    var toolbar = document.createElement('div');\n",
       "    toolbar.classList = 'btn-toolbar';\n",
       "    this.root.appendChild(toolbar);\n",
       "\n",
       "    function on_click_closure(name) {\n",
       "        return function (_event) {\n",
       "            return fig.toolbar_button_onclick(name);\n",
       "        };\n",
       "    }\n",
       "\n",
       "    function on_mouseover_closure(tooltip) {\n",
       "        return function (event) {\n",
       "            if (!event.currentTarget.disabled) {\n",
       "                return fig.toolbar_button_onmouseover(tooltip);\n",
       "            }\n",
       "        };\n",
       "    }\n",
       "\n",
       "    fig.buttons = {};\n",
       "    var buttonGroup = document.createElement('div');\n",
       "    buttonGroup.classList = 'btn-group';\n",
       "    var button;\n",
       "    for (var toolbar_ind in mpl.toolbar_items) {\n",
       "        var name = mpl.toolbar_items[toolbar_ind][0];\n",
       "        var tooltip = mpl.toolbar_items[toolbar_ind][1];\n",
       "        var image = mpl.toolbar_items[toolbar_ind][2];\n",
       "        var method_name = mpl.toolbar_items[toolbar_ind][3];\n",
       "\n",
       "        if (!name) {\n",
       "            /* Instead of a spacer, we start a new button group. */\n",
       "            if (buttonGroup.hasChildNodes()) {\n",
       "                toolbar.appendChild(buttonGroup);\n",
       "            }\n",
       "            buttonGroup = document.createElement('div');\n",
       "            buttonGroup.classList = 'btn-group';\n",
       "            continue;\n",
       "        }\n",
       "\n",
       "        button = fig.buttons[name] = document.createElement('button');\n",
       "        button.classList = 'btn btn-default';\n",
       "        button.href = '#';\n",
       "        button.title = name;\n",
       "        button.innerHTML = '<i class=\"fa ' + image + ' fa-lg\"></i>';\n",
       "        button.addEventListener('click', on_click_closure(method_name));\n",
       "        button.addEventListener('mouseover', on_mouseover_closure(tooltip));\n",
       "        buttonGroup.appendChild(button);\n",
       "    }\n",
       "\n",
       "    if (buttonGroup.hasChildNodes()) {\n",
       "        toolbar.appendChild(buttonGroup);\n",
       "    }\n",
       "\n",
       "    // Add the status bar.\n",
       "    var status_bar = document.createElement('span');\n",
       "    status_bar.classList = 'mpl-message pull-right';\n",
       "    toolbar.appendChild(status_bar);\n",
       "    this.message = status_bar;\n",
       "\n",
       "    // Add the close button to the window.\n",
       "    var buttongrp = document.createElement('div');\n",
       "    buttongrp.classList = 'btn-group inline pull-right';\n",
       "    button = document.createElement('button');\n",
       "    button.classList = 'btn btn-mini btn-primary';\n",
       "    button.href = '#';\n",
       "    button.title = 'Stop Interaction';\n",
       "    button.innerHTML = '<i class=\"fa fa-power-off icon-remove icon-large\"></i>';\n",
       "    button.addEventListener('click', function (_evt) {\n",
       "        fig.handle_close(fig, {});\n",
       "    });\n",
       "    button.addEventListener(\n",
       "        'mouseover',\n",
       "        on_mouseover_closure('Stop Interaction')\n",
       "    );\n",
       "    buttongrp.appendChild(button);\n",
       "    var titlebar = this.root.querySelector('.ui-dialog-titlebar');\n",
       "    titlebar.insertBefore(buttongrp, titlebar.firstChild);\n",
       "};\n",
       "\n",
       "mpl.figure.prototype._remove_fig_handler = function () {\n",
       "    this.close_ws(this, {});\n",
       "};\n",
       "\n",
       "mpl.figure.prototype._root_extra_style = function (el) {\n",
       "    el.style.boxSizing = 'content-box'; // override notebook setting of border-box.\n",
       "    el.addEventListener('remove', this._remove_fig_handler);\n",
       "};\n",
       "\n",
       "mpl.figure.prototype._canvas_extra_style = function (el) {\n",
       "    // this is important to make the div 'focusable\n",
       "    el.setAttribute('tabindex', 0);\n",
       "    // reach out to IPython and tell the keyboard manager to turn it's self\n",
       "    // off when our div gets focus\n",
       "\n",
       "    // location in version 3\n",
       "    if (IPython.notebook.keyboard_manager) {\n",
       "        IPython.notebook.keyboard_manager.register_events(el);\n",
       "    } else {\n",
       "        // location in version 2\n",
       "        IPython.keyboard_manager.register_events(el);\n",
       "    }\n",
       "};\n",
       "\n",
       "mpl.figure.prototype._key_event_extra = function (event, _name) {\n",
       "    var manager = IPython.notebook.keyboard_manager;\n",
       "    if (!manager) {\n",
       "        manager = IPython.keyboard_manager;\n",
       "    }\n",
       "\n",
       "    // Check for shift+enter\n",
       "    if (event.shiftKey && event.which === 13) {\n",
       "        this.canvas_div.blur();\n",
       "        // select the cell after this one\n",
       "        var index = IPython.notebook.find_cell_index(this.cell_info[0]);\n",
       "        IPython.notebook.select(index + 1);\n",
       "    }\n",
       "};\n",
       "\n",
       "mpl.figure.prototype.handle_save = function (fig, _msg) {\n",
       "    fig.ondownload(fig, null);\n",
       "};\n",
       "\n",
       "mpl.find_output_cell = function (html_output) {\n",
       "    // Return the cell and output element which can be found *uniquely* in the notebook.\n",
       "    // Note - this is a bit hacky, but it is done because the \"notebook_saving.Notebook\"\n",
       "    // IPython event is triggered only after the cells have been serialised, which for\n",
       "    // our purposes (turning an active figure into a static one), is too late.\n",
       "    var cells = IPython.notebook.get_cells();\n",
       "    var ncells = cells.length;\n",
       "    for (var i = 0; i < ncells; i++) {\n",
       "        var cell = cells[i];\n",
       "        if (cell.cell_type === 'code') {\n",
       "            for (var j = 0; j < cell.output_area.outputs.length; j++) {\n",
       "                var data = cell.output_area.outputs[j];\n",
       "                if (data.data) {\n",
       "                    // IPython >= 3 moved mimebundle to data attribute of output\n",
       "                    data = data.data;\n",
       "                }\n",
       "                if (data['text/html'] === html_output) {\n",
       "                    return [cell, data, j];\n",
       "                }\n",
       "            }\n",
       "        }\n",
       "    }\n",
       "};\n",
       "\n",
       "// Register the function which deals with the matplotlib target/channel.\n",
       "// The kernel may be null if the page has been refreshed.\n",
       "if (IPython.notebook.kernel !== null) {\n",
       "    IPython.notebook.kernel.comm_manager.register_target(\n",
       "        'matplotlib',\n",
       "        mpl.mpl_figure_comm\n",
       "    );\n",
       "}\n"
      ],
      "text/plain": [
       "<IPython.core.display.Javascript object>"
      ]
     },
     "metadata": {},
     "output_type": "display_data"
    },
    {
     "data": {
      "text/html": [
       "<img src=\"data:image/png;base64,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\" width=\"640\">"
      ],
      "text/plain": [
       "<IPython.core.display.HTML object>"
      ]
     },
     "metadata": {},
     "output_type": "display_data"
    }
   ],
   "source": [
    "fig, ax = plt.subplots()\n",
    "\n",
    "ax.scatter(df['long'],df['lat'])\n",
    "\n",
    "fig.tight_layout();"
   ]
  },
  {
   "cell_type": "code",
   "execution_count": 4,
   "metadata": {},
   "outputs": [],
   "source": [
    "plt.close(\"all\")"
   ]
  },
  {
   "cell_type": "code",
   "execution_count": 5,
   "metadata": {
    "scrolled": false
   },
   "outputs": [
    {
     "data": {
      "application/javascript": [
       "/* Put everything inside the global mpl namespace */\n",
       "/* global mpl */\n",
       "window.mpl = {};\n",
       "\n",
       "mpl.get_websocket_type = function () {\n",
       "    if (typeof WebSocket !== 'undefined') {\n",
       "        return WebSocket;\n",
       "    } else if (typeof MozWebSocket !== 'undefined') {\n",
       "        return MozWebSocket;\n",
       "    } else {\n",
       "        alert(\n",
       "            'Your browser does not have WebSocket support. ' +\n",
       "                'Please try Chrome, Safari or Firefox ≥ 6. ' +\n",
       "                'Firefox 4 and 5 are also supported but you ' +\n",
       "                'have to enable WebSockets in about:config.'\n",
       "        );\n",
       "    }\n",
       "};\n",
       "\n",
       "mpl.figure = function (figure_id, websocket, ondownload, parent_element) {\n",
       "    this.id = figure_id;\n",
       "\n",
       "    this.ws = websocket;\n",
       "\n",
       "    this.supports_binary = this.ws.binaryType !== undefined;\n",
       "\n",
       "    if (!this.supports_binary) {\n",
       "        var warnings = document.getElementById('mpl-warnings');\n",
       "        if (warnings) {\n",
       "            warnings.style.display = 'block';\n",
       "            warnings.textContent =\n",
       "                'This browser does not support binary websocket messages. ' +\n",
       "                'Performance may be slow.';\n",
       "        }\n",
       "    }\n",
       "\n",
       "    this.imageObj = new Image();\n",
       "\n",
       "    this.context = undefined;\n",
       "    this.message = undefined;\n",
       "    this.canvas = undefined;\n",
       "    this.rubberband_canvas = undefined;\n",
       "    this.rubberband_context = undefined;\n",
       "    this.format_dropdown = undefined;\n",
       "\n",
       "    this.image_mode = 'full';\n",
       "\n",
       "    this.root = document.createElement('div');\n",
       "    this.root.setAttribute('style', 'display: inline-block');\n",
       "    this._root_extra_style(this.root);\n",
       "\n",
       "    parent_element.appendChild(this.root);\n",
       "\n",
       "    this._init_header(this);\n",
       "    this._init_canvas(this);\n",
       "    this._init_toolbar(this);\n",
       "\n",
       "    var fig = this;\n",
       "\n",
       "    this.waiting = false;\n",
       "\n",
       "    this.ws.onopen = function () {\n",
       "        fig.send_message('supports_binary', { value: fig.supports_binary });\n",
       "        fig.send_message('send_image_mode', {});\n",
       "        if (mpl.ratio !== 1) {\n",
       "            fig.send_message('set_dpi_ratio', { dpi_ratio: mpl.ratio });\n",
       "        }\n",
       "        fig.send_message('refresh', {});\n",
       "    };\n",
       "\n",
       "    this.imageObj.onload = function () {\n",
       "        if (fig.image_mode === 'full') {\n",
       "            // Full images could contain transparency (where diff images\n",
       "            // almost always do), so we need to clear the canvas so that\n",
       "            // there is no ghosting.\n",
       "            fig.context.clearRect(0, 0, fig.canvas.width, fig.canvas.height);\n",
       "        }\n",
       "        fig.context.drawImage(fig.imageObj, 0, 0);\n",
       "    };\n",
       "\n",
       "    this.imageObj.onunload = function () {\n",
       "        fig.ws.close();\n",
       "    };\n",
       "\n",
       "    this.ws.onmessage = this._make_on_message_function(this);\n",
       "\n",
       "    this.ondownload = ondownload;\n",
       "};\n",
       "\n",
       "mpl.figure.prototype._init_header = function () {\n",
       "    var titlebar = document.createElement('div');\n",
       "    titlebar.classList =\n",
       "        'ui-dialog-titlebar ui-widget-header ui-corner-all ui-helper-clearfix';\n",
       "    var titletext = document.createElement('div');\n",
       "    titletext.classList = 'ui-dialog-title';\n",
       "    titletext.setAttribute(\n",
       "        'style',\n",
       "        'width: 100%; text-align: center; padding: 3px;'\n",
       "    );\n",
       "    titlebar.appendChild(titletext);\n",
       "    this.root.appendChild(titlebar);\n",
       "    this.header = titletext;\n",
       "};\n",
       "\n",
       "mpl.figure.prototype._canvas_extra_style = function (_canvas_div) {};\n",
       "\n",
       "mpl.figure.prototype._root_extra_style = function (_canvas_div) {};\n",
       "\n",
       "mpl.figure.prototype._init_canvas = function () {\n",
       "    var fig = this;\n",
       "\n",
       "    var canvas_div = (this.canvas_div = document.createElement('div'));\n",
       "    canvas_div.setAttribute(\n",
       "        'style',\n",
       "        'border: 1px solid #ddd;' +\n",
       "            'box-sizing: content-box;' +\n",
       "            'clear: both;' +\n",
       "            'min-height: 1px;' +\n",
       "            'min-width: 1px;' +\n",
       "            'outline: 0;' +\n",
       "            'overflow: hidden;' +\n",
       "            'position: relative;' +\n",
       "            'resize: both;'\n",
       "    );\n",
       "\n",
       "    function on_keyboard_event_closure(name) {\n",
       "        return function (event) {\n",
       "            return fig.key_event(event, name);\n",
       "        };\n",
       "    }\n",
       "\n",
       "    canvas_div.addEventListener(\n",
       "        'keydown',\n",
       "        on_keyboard_event_closure('key_press')\n",
       "    );\n",
       "    canvas_div.addEventListener(\n",
       "        'keyup',\n",
       "        on_keyboard_event_closure('key_release')\n",
       "    );\n",
       "\n",
       "    this._canvas_extra_style(canvas_div);\n",
       "    this.root.appendChild(canvas_div);\n",
       "\n",
       "    var canvas = (this.canvas = document.createElement('canvas'));\n",
       "    canvas.classList.add('mpl-canvas');\n",
       "    canvas.setAttribute('style', 'box-sizing: content-box;');\n",
       "\n",
       "    this.context = canvas.getContext('2d');\n",
       "\n",
       "    var backingStore =\n",
       "        this.context.backingStorePixelRatio ||\n",
       "        this.context.webkitBackingStorePixelRatio ||\n",
       "        this.context.mozBackingStorePixelRatio ||\n",
       "        this.context.msBackingStorePixelRatio ||\n",
       "        this.context.oBackingStorePixelRatio ||\n",
       "        this.context.backingStorePixelRatio ||\n",
       "        1;\n",
       "\n",
       "    mpl.ratio = (window.devicePixelRatio || 1) / backingStore;\n",
       "\n",
       "    var rubberband_canvas = (this.rubberband_canvas = document.createElement(\n",
       "        'canvas'\n",
       "    ));\n",
       "    rubberband_canvas.setAttribute(\n",
       "        'style',\n",
       "        'box-sizing: content-box; position: absolute; left: 0; top: 0; z-index: 1;'\n",
       "    );\n",
       "\n",
       "    var resizeObserver = new ResizeObserver(function (entries) {\n",
       "        var nentries = entries.length;\n",
       "        for (var i = 0; i < nentries; i++) {\n",
       "            var entry = entries[i];\n",
       "            var width, height;\n",
       "            if (entry.contentBoxSize) {\n",
       "                if (entry.contentBoxSize instanceof Array) {\n",
       "                    // Chrome 84 implements new version of spec.\n",
       "                    width = entry.contentBoxSize[0].inlineSize;\n",
       "                    height = entry.contentBoxSize[0].blockSize;\n",
       "                } else {\n",
       "                    // Firefox implements old version of spec.\n",
       "                    width = entry.contentBoxSize.inlineSize;\n",
       "                    height = entry.contentBoxSize.blockSize;\n",
       "                }\n",
       "            } else {\n",
       "                // Chrome <84 implements even older version of spec.\n",
       "                width = entry.contentRect.width;\n",
       "                height = entry.contentRect.height;\n",
       "            }\n",
       "\n",
       "            // Keep the size of the canvas and rubber band canvas in sync with\n",
       "            // the canvas container.\n",
       "            if (entry.devicePixelContentBoxSize) {\n",
       "                // Chrome 84 implements new version of spec.\n",
       "                canvas.setAttribute(\n",
       "                    'width',\n",
       "                    entry.devicePixelContentBoxSize[0].inlineSize\n",
       "                );\n",
       "                canvas.setAttribute(\n",
       "                    'height',\n",
       "                    entry.devicePixelContentBoxSize[0].blockSize\n",
       "                );\n",
       "            } else {\n",
       "                canvas.setAttribute('width', width * mpl.ratio);\n",
       "                canvas.setAttribute('height', height * mpl.ratio);\n",
       "            }\n",
       "            canvas.setAttribute(\n",
       "                'style',\n",
       "                'width: ' + width + 'px; height: ' + height + 'px;'\n",
       "            );\n",
       "\n",
       "            rubberband_canvas.setAttribute('width', width);\n",
       "            rubberband_canvas.setAttribute('height', height);\n",
       "\n",
       "            // And update the size in Python. We ignore the initial 0/0 size\n",
       "            // that occurs as the element is placed into the DOM, which should\n",
       "            // otherwise not happen due to the minimum size styling.\n",
       "            if (width != 0 && height != 0) {\n",
       "                fig.request_resize(width, height);\n",
       "            }\n",
       "        }\n",
       "    });\n",
       "    resizeObserver.observe(canvas_div);\n",
       "\n",
       "    function on_mouse_event_closure(name) {\n",
       "        return function (event) {\n",
       "            return fig.mouse_event(event, name);\n",
       "        };\n",
       "    }\n",
       "\n",
       "    rubberband_canvas.addEventListener(\n",
       "        'mousedown',\n",
       "        on_mouse_event_closure('button_press')\n",
       "    );\n",
       "    rubberband_canvas.addEventListener(\n",
       "        'mouseup',\n",
       "        on_mouse_event_closure('button_release')\n",
       "    );\n",
       "    // Throttle sequential mouse events to 1 every 20ms.\n",
       "    rubberband_canvas.addEventListener(\n",
       "        'mousemove',\n",
       "        on_mouse_event_closure('motion_notify')\n",
       "    );\n",
       "\n",
       "    rubberband_canvas.addEventListener(\n",
       "        'mouseenter',\n",
       "        on_mouse_event_closure('figure_enter')\n",
       "    );\n",
       "    rubberband_canvas.addEventListener(\n",
       "        'mouseleave',\n",
       "        on_mouse_event_closure('figure_leave')\n",
       "    );\n",
       "\n",
       "    canvas_div.addEventListener('wheel', function (event) {\n",
       "        if (event.deltaY < 0) {\n",
       "            event.step = 1;\n",
       "        } else {\n",
       "            event.step = -1;\n",
       "        }\n",
       "        on_mouse_event_closure('scroll')(event);\n",
       "    });\n",
       "\n",
       "    canvas_div.appendChild(canvas);\n",
       "    canvas_div.appendChild(rubberband_canvas);\n",
       "\n",
       "    this.rubberband_context = rubberband_canvas.getContext('2d');\n",
       "    this.rubberband_context.strokeStyle = '#000000';\n",
       "\n",
       "    this._resize_canvas = function (width, height, forward) {\n",
       "        if (forward) {\n",
       "            canvas_div.style.width = width + 'px';\n",
       "            canvas_div.style.height = height + 'px';\n",
       "        }\n",
       "    };\n",
       "\n",
       "    // Disable right mouse context menu.\n",
       "    this.rubberband_canvas.addEventListener('contextmenu', function (_e) {\n",
       "        event.preventDefault();\n",
       "        return false;\n",
       "    });\n",
       "\n",
       "    function set_focus() {\n",
       "        canvas.focus();\n",
       "        canvas_div.focus();\n",
       "    }\n",
       "\n",
       "    window.setTimeout(set_focus, 100);\n",
       "};\n",
       "\n",
       "mpl.figure.prototype._init_toolbar = function () {\n",
       "    var fig = this;\n",
       "\n",
       "    var toolbar = document.createElement('div');\n",
       "    toolbar.classList = 'mpl-toolbar';\n",
       "    this.root.appendChild(toolbar);\n",
       "\n",
       "    function on_click_closure(name) {\n",
       "        return function (_event) {\n",
       "            return fig.toolbar_button_onclick(name);\n",
       "        };\n",
       "    }\n",
       "\n",
       "    function on_mouseover_closure(tooltip) {\n",
       "        return function (event) {\n",
       "            if (!event.currentTarget.disabled) {\n",
       "                return fig.toolbar_button_onmouseover(tooltip);\n",
       "            }\n",
       "        };\n",
       "    }\n",
       "\n",
       "    fig.buttons = {};\n",
       "    var buttonGroup = document.createElement('div');\n",
       "    buttonGroup.classList = 'mpl-button-group';\n",
       "    for (var toolbar_ind in mpl.toolbar_items) {\n",
       "        var name = mpl.toolbar_items[toolbar_ind][0];\n",
       "        var tooltip = mpl.toolbar_items[toolbar_ind][1];\n",
       "        var image = mpl.toolbar_items[toolbar_ind][2];\n",
       "        var method_name = mpl.toolbar_items[toolbar_ind][3];\n",
       "\n",
       "        if (!name) {\n",
       "            /* Instead of a spacer, we start a new button group. */\n",
       "            if (buttonGroup.hasChildNodes()) {\n",
       "                toolbar.appendChild(buttonGroup);\n",
       "            }\n",
       "            buttonGroup = document.createElement('div');\n",
       "            buttonGroup.classList = 'mpl-button-group';\n",
       "            continue;\n",
       "        }\n",
       "\n",
       "        var button = (fig.buttons[name] = document.createElement('button'));\n",
       "        button.classList = 'mpl-widget';\n",
       "        button.setAttribute('role', 'button');\n",
       "        button.setAttribute('aria-disabled', 'false');\n",
       "        button.addEventListener('click', on_click_closure(method_name));\n",
       "        button.addEventListener('mouseover', on_mouseover_closure(tooltip));\n",
       "\n",
       "        var icon_img = document.createElement('img');\n",
       "        icon_img.src = '_images/' + image + '.png';\n",
       "        icon_img.srcset = '_images/' + image + '_large.png 2x';\n",
       "        icon_img.alt = tooltip;\n",
       "        button.appendChild(icon_img);\n",
       "\n",
       "        buttonGroup.appendChild(button);\n",
       "    }\n",
       "\n",
       "    if (buttonGroup.hasChildNodes()) {\n",
       "        toolbar.appendChild(buttonGroup);\n",
       "    }\n",
       "\n",
       "    var fmt_picker = document.createElement('select');\n",
       "    fmt_picker.classList = 'mpl-widget';\n",
       "    toolbar.appendChild(fmt_picker);\n",
       "    this.format_dropdown = fmt_picker;\n",
       "\n",
       "    for (var ind in mpl.extensions) {\n",
       "        var fmt = mpl.extensions[ind];\n",
       "        var option = document.createElement('option');\n",
       "        option.selected = fmt === mpl.default_extension;\n",
       "        option.innerHTML = fmt;\n",
       "        fmt_picker.appendChild(option);\n",
       "    }\n",
       "\n",
       "    var status_bar = document.createElement('span');\n",
       "    status_bar.classList = 'mpl-message';\n",
       "    toolbar.appendChild(status_bar);\n",
       "    this.message = status_bar;\n",
       "};\n",
       "\n",
       "mpl.figure.prototype.request_resize = function (x_pixels, y_pixels) {\n",
       "    // Request matplotlib to resize the figure. Matplotlib will then trigger a resize in the client,\n",
       "    // which will in turn request a refresh of the image.\n",
       "    this.send_message('resize', { width: x_pixels, height: y_pixels });\n",
       "};\n",
       "\n",
       "mpl.figure.prototype.send_message = function (type, properties) {\n",
       "    properties['type'] = type;\n",
       "    properties['figure_id'] = this.id;\n",
       "    this.ws.send(JSON.stringify(properties));\n",
       "};\n",
       "\n",
       "mpl.figure.prototype.send_draw_message = function () {\n",
       "    if (!this.waiting) {\n",
       "        this.waiting = true;\n",
       "        this.ws.send(JSON.stringify({ type: 'draw', figure_id: this.id }));\n",
       "    }\n",
       "};\n",
       "\n",
       "mpl.figure.prototype.handle_save = function (fig, _msg) {\n",
       "    var format_dropdown = fig.format_dropdown;\n",
       "    var format = format_dropdown.options[format_dropdown.selectedIndex].value;\n",
       "    fig.ondownload(fig, format);\n",
       "};\n",
       "\n",
       "mpl.figure.prototype.handle_resize = function (fig, msg) {\n",
       "    var size = msg['size'];\n",
       "    if (size[0] !== fig.canvas.width || size[1] !== fig.canvas.height) {\n",
       "        fig._resize_canvas(size[0], size[1], msg['forward']);\n",
       "        fig.send_message('refresh', {});\n",
       "    }\n",
       "};\n",
       "\n",
       "mpl.figure.prototype.handle_rubberband = function (fig, msg) {\n",
       "    var x0 = msg['x0'] / mpl.ratio;\n",
       "    var y0 = (fig.canvas.height - msg['y0']) / mpl.ratio;\n",
       "    var x1 = msg['x1'] / mpl.ratio;\n",
       "    var y1 = (fig.canvas.height - msg['y1']) / mpl.ratio;\n",
       "    x0 = Math.floor(x0) + 0.5;\n",
       "    y0 = Math.floor(y0) + 0.5;\n",
       "    x1 = Math.floor(x1) + 0.5;\n",
       "    y1 = Math.floor(y1) + 0.5;\n",
       "    var min_x = Math.min(x0, x1);\n",
       "    var min_y = Math.min(y0, y1);\n",
       "    var width = Math.abs(x1 - x0);\n",
       "    var height = Math.abs(y1 - y0);\n",
       "\n",
       "    fig.rubberband_context.clearRect(\n",
       "        0,\n",
       "        0,\n",
       "        fig.canvas.width / mpl.ratio,\n",
       "        fig.canvas.height / mpl.ratio\n",
       "    );\n",
       "\n",
       "    fig.rubberband_context.strokeRect(min_x, min_y, width, height);\n",
       "};\n",
       "\n",
       "mpl.figure.prototype.handle_figure_label = function (fig, msg) {\n",
       "    // Updates the figure title.\n",
       "    fig.header.textContent = msg['label'];\n",
       "};\n",
       "\n",
       "mpl.figure.prototype.handle_cursor = function (fig, msg) {\n",
       "    var cursor = msg['cursor'];\n",
       "    switch (cursor) {\n",
       "        case 0:\n",
       "            cursor = 'pointer';\n",
       "            break;\n",
       "        case 1:\n",
       "            cursor = 'default';\n",
       "            break;\n",
       "        case 2:\n",
       "            cursor = 'crosshair';\n",
       "            break;\n",
       "        case 3:\n",
       "            cursor = 'move';\n",
       "            break;\n",
       "    }\n",
       "    fig.rubberband_canvas.style.cursor = cursor;\n",
       "};\n",
       "\n",
       "mpl.figure.prototype.handle_message = function (fig, msg) {\n",
       "    fig.message.textContent = msg['message'];\n",
       "};\n",
       "\n",
       "mpl.figure.prototype.handle_draw = function (fig, _msg) {\n",
       "    // Request the server to send over a new figure.\n",
       "    fig.send_draw_message();\n",
       "};\n",
       "\n",
       "mpl.figure.prototype.handle_image_mode = function (fig, msg) {\n",
       "    fig.image_mode = msg['mode'];\n",
       "};\n",
       "\n",
       "mpl.figure.prototype.handle_history_buttons = function (fig, msg) {\n",
       "    for (var key in msg) {\n",
       "        if (!(key in fig.buttons)) {\n",
       "            continue;\n",
       "        }\n",
       "        fig.buttons[key].disabled = !msg[key];\n",
       "        fig.buttons[key].setAttribute('aria-disabled', !msg[key]);\n",
       "    }\n",
       "};\n",
       "\n",
       "mpl.figure.prototype.handle_navigate_mode = function (fig, msg) {\n",
       "    if (msg['mode'] === 'PAN') {\n",
       "        fig.buttons['Pan'].classList.add('active');\n",
       "        fig.buttons['Zoom'].classList.remove('active');\n",
       "    } else if (msg['mode'] === 'ZOOM') {\n",
       "        fig.buttons['Pan'].classList.remove('active');\n",
       "        fig.buttons['Zoom'].classList.add('active');\n",
       "    } else {\n",
       "        fig.buttons['Pan'].classList.remove('active');\n",
       "        fig.buttons['Zoom'].classList.remove('active');\n",
       "    }\n",
       "};\n",
       "\n",
       "mpl.figure.prototype.updated_canvas_event = function () {\n",
       "    // Called whenever the canvas gets updated.\n",
       "    this.send_message('ack', {});\n",
       "};\n",
       "\n",
       "// A function to construct a web socket function for onmessage handling.\n",
       "// Called in the figure constructor.\n",
       "mpl.figure.prototype._make_on_message_function = function (fig) {\n",
       "    return function socket_on_message(evt) {\n",
       "        if (evt.data instanceof Blob) {\n",
       "            /* FIXME: We get \"Resource interpreted as Image but\n",
       "             * transferred with MIME type text/plain:\" errors on\n",
       "             * Chrome.  But how to set the MIME type?  It doesn't seem\n",
       "             * to be part of the websocket stream */\n",
       "            evt.data.type = 'image/png';\n",
       "\n",
       "            /* Free the memory for the previous frames */\n",
       "            if (fig.imageObj.src) {\n",
       "                (window.URL || window.webkitURL).revokeObjectURL(\n",
       "                    fig.imageObj.src\n",
       "                );\n",
       "            }\n",
       "\n",
       "            fig.imageObj.src = (window.URL || window.webkitURL).createObjectURL(\n",
       "                evt.data\n",
       "            );\n",
       "            fig.updated_canvas_event();\n",
       "            fig.waiting = false;\n",
       "            return;\n",
       "        } else if (\n",
       "            typeof evt.data === 'string' &&\n",
       "            evt.data.slice(0, 21) === 'data:image/png;base64'\n",
       "        ) {\n",
       "            fig.imageObj.src = evt.data;\n",
       "            fig.updated_canvas_event();\n",
       "            fig.waiting = false;\n",
       "            return;\n",
       "        }\n",
       "\n",
       "        var msg = JSON.parse(evt.data);\n",
       "        var msg_type = msg['type'];\n",
       "\n",
       "        // Call the  \"handle_{type}\" callback, which takes\n",
       "        // the figure and JSON message as its only arguments.\n",
       "        try {\n",
       "            var callback = fig['handle_' + msg_type];\n",
       "        } catch (e) {\n",
       "            console.log(\n",
       "                \"No handler for the '\" + msg_type + \"' message type: \",\n",
       "                msg\n",
       "            );\n",
       "            return;\n",
       "        }\n",
       "\n",
       "        if (callback) {\n",
       "            try {\n",
       "                // console.log(\"Handling '\" + msg_type + \"' message: \", msg);\n",
       "                callback(fig, msg);\n",
       "            } catch (e) {\n",
       "                console.log(\n",
       "                    \"Exception inside the 'handler_\" + msg_type + \"' callback:\",\n",
       "                    e,\n",
       "                    e.stack,\n",
       "                    msg\n",
       "                );\n",
       "            }\n",
       "        }\n",
       "    };\n",
       "};\n",
       "\n",
       "// from http://stackoverflow.com/questions/1114465/getting-mouse-location-in-canvas\n",
       "mpl.findpos = function (e) {\n",
       "    //this section is from http://www.quirksmode.org/js/events_properties.html\n",
       "    var targ;\n",
       "    if (!e) {\n",
       "        e = window.event;\n",
       "    }\n",
       "    if (e.target) {\n",
       "        targ = e.target;\n",
       "    } else if (e.srcElement) {\n",
       "        targ = e.srcElement;\n",
       "    }\n",
       "    if (targ.nodeType === 3) {\n",
       "        // defeat Safari bug\n",
       "        targ = targ.parentNode;\n",
       "    }\n",
       "\n",
       "    // pageX,Y are the mouse positions relative to the document\n",
       "    var boundingRect = targ.getBoundingClientRect();\n",
       "    var x = e.pageX - (boundingRect.left + document.body.scrollLeft);\n",
       "    var y = e.pageY - (boundingRect.top + document.body.scrollTop);\n",
       "\n",
       "    return { x: x, y: y };\n",
       "};\n",
       "\n",
       "/*\n",
       " * return a copy of an object with only non-object keys\n",
       " * we need this to avoid circular references\n",
       " * http://stackoverflow.com/a/24161582/3208463\n",
       " */\n",
       "function simpleKeys(original) {\n",
       "    return Object.keys(original).reduce(function (obj, key) {\n",
       "        if (typeof original[key] !== 'object') {\n",
       "            obj[key] = original[key];\n",
       "        }\n",
       "        return obj;\n",
       "    }, {});\n",
       "}\n",
       "\n",
       "mpl.figure.prototype.mouse_event = function (event, name) {\n",
       "    var canvas_pos = mpl.findpos(event);\n",
       "\n",
       "    if (name === 'button_press') {\n",
       "        this.canvas.focus();\n",
       "        this.canvas_div.focus();\n",
       "    }\n",
       "\n",
       "    var x = canvas_pos.x * mpl.ratio;\n",
       "    var y = canvas_pos.y * mpl.ratio;\n",
       "\n",
       "    this.send_message(name, {\n",
       "        x: x,\n",
       "        y: y,\n",
       "        button: event.button,\n",
       "        step: event.step,\n",
       "        guiEvent: simpleKeys(event),\n",
       "    });\n",
       "\n",
       "    /* This prevents the web browser from automatically changing to\n",
       "     * the text insertion cursor when the button is pressed.  We want\n",
       "     * to control all of the cursor setting manually through the\n",
       "     * 'cursor' event from matplotlib */\n",
       "    event.preventDefault();\n",
       "    return false;\n",
       "};\n",
       "\n",
       "mpl.figure.prototype._key_event_extra = function (_event, _name) {\n",
       "    // Handle any extra behaviour associated with a key event\n",
       "};\n",
       "\n",
       "mpl.figure.prototype.key_event = function (event, name) {\n",
       "    // Prevent repeat events\n",
       "    if (name === 'key_press') {\n",
       "        if (event.which === this._key) {\n",
       "            return;\n",
       "        } else {\n",
       "            this._key = event.which;\n",
       "        }\n",
       "    }\n",
       "    if (name === 'key_release') {\n",
       "        this._key = null;\n",
       "    }\n",
       "\n",
       "    var value = '';\n",
       "    if (event.ctrlKey && event.which !== 17) {\n",
       "        value += 'ctrl+';\n",
       "    }\n",
       "    if (event.altKey && event.which !== 18) {\n",
       "        value += 'alt+';\n",
       "    }\n",
       "    if (event.shiftKey && event.which !== 16) {\n",
       "        value += 'shift+';\n",
       "    }\n",
       "\n",
       "    value += 'k';\n",
       "    value += event.which.toString();\n",
       "\n",
       "    this._key_event_extra(event, name);\n",
       "\n",
       "    this.send_message(name, { key: value, guiEvent: simpleKeys(event) });\n",
       "    return false;\n",
       "};\n",
       "\n",
       "mpl.figure.prototype.toolbar_button_onclick = function (name) {\n",
       "    if (name === 'download') {\n",
       "        this.handle_save(this, null);\n",
       "    } else {\n",
       "        this.send_message('toolbar_button', { name: name });\n",
       "    }\n",
       "};\n",
       "\n",
       "mpl.figure.prototype.toolbar_button_onmouseover = function (tooltip) {\n",
       "    this.message.textContent = tooltip;\n",
       "};\n",
       "mpl.toolbar_items = [[\"Home\", \"Reset original view\", \"fa fa-home icon-home\", \"home\"], [\"Back\", \"Back to previous view\", \"fa fa-arrow-left icon-arrow-left\", \"back\"], [\"Forward\", \"Forward to next view\", \"fa fa-arrow-right icon-arrow-right\", \"forward\"], [\"\", \"\", \"\", \"\"], [\"Pan\", \"Left button pans, Right button zooms\\nx/y fixes axis, CTRL fixes aspect\", \"fa fa-arrows icon-move\", \"pan\"], [\"Zoom\", \"Zoom to rectangle\\nx/y fixes axis, CTRL fixes aspect\", \"fa fa-square-o icon-check-empty\", \"zoom\"], [\"\", \"\", \"\", \"\"], [\"Download\", \"Download plot\", \"fa fa-floppy-o icon-save\", \"download\"]];\n",
       "\n",
       "mpl.extensions = [\"eps\", \"jpeg\", \"pdf\", \"png\", \"ps\", \"raw\", \"svg\", \"tif\"];\n",
       "\n",
       "mpl.default_extension = \"png\";/* global mpl */\n",
       "\n",
       "var comm_websocket_adapter = function (comm) {\n",
       "    // Create a \"websocket\"-like object which calls the given IPython comm\n",
       "    // object with the appropriate methods. Currently this is a non binary\n",
       "    // socket, so there is still some room for performance tuning.\n",
       "    var ws = {};\n",
       "\n",
       "    ws.close = function () {\n",
       "        comm.close();\n",
       "    };\n",
       "    ws.send = function (m) {\n",
       "        //console.log('sending', m);\n",
       "        comm.send(m);\n",
       "    };\n",
       "    // Register the callback with on_msg.\n",
       "    comm.on_msg(function (msg) {\n",
       "        //console.log('receiving', msg['content']['data'], msg);\n",
       "        // Pass the mpl event to the overridden (by mpl) onmessage function.\n",
       "        ws.onmessage(msg['content']['data']);\n",
       "    });\n",
       "    return ws;\n",
       "};\n",
       "\n",
       "mpl.mpl_figure_comm = function (comm, msg) {\n",
       "    // This is the function which gets called when the mpl process\n",
       "    // starts-up an IPython Comm through the \"matplotlib\" channel.\n",
       "\n",
       "    var id = msg.content.data.id;\n",
       "    // Get hold of the div created by the display call when the Comm\n",
       "    // socket was opened in Python.\n",
       "    var element = document.getElementById(id);\n",
       "    var ws_proxy = comm_websocket_adapter(comm);\n",
       "\n",
       "    function ondownload(figure, _format) {\n",
       "        window.open(figure.canvas.toDataURL());\n",
       "    }\n",
       "\n",
       "    var fig = new mpl.figure(id, ws_proxy, ondownload, element);\n",
       "\n",
       "    // Call onopen now - mpl needs it, as it is assuming we've passed it a real\n",
       "    // web socket which is closed, not our websocket->open comm proxy.\n",
       "    ws_proxy.onopen();\n",
       "\n",
       "    fig.parent_element = element;\n",
       "    fig.cell_info = mpl.find_output_cell(\"<div id='\" + id + \"'></div>\");\n",
       "    if (!fig.cell_info) {\n",
       "        console.error('Failed to find cell for figure', id, fig);\n",
       "        return;\n",
       "    }\n",
       "};\n",
       "\n",
       "mpl.figure.prototype.handle_close = function (fig, msg) {\n",
       "    var width = fig.canvas.width / mpl.ratio;\n",
       "    fig.root.removeEventListener('remove', this._remove_fig_handler);\n",
       "\n",
       "    // Update the output cell to use the data from the current canvas.\n",
       "    fig.push_to_output();\n",
       "    var dataURL = fig.canvas.toDataURL();\n",
       "    // Re-enable the keyboard manager in IPython - without this line, in FF,\n",
       "    // the notebook keyboard shortcuts fail.\n",
       "    IPython.keyboard_manager.enable();\n",
       "    fig.parent_element.innerHTML =\n",
       "        '<img src=\"' + dataURL + '\" width=\"' + width + '\">';\n",
       "    fig.close_ws(fig, msg);\n",
       "};\n",
       "\n",
       "mpl.figure.prototype.close_ws = function (fig, msg) {\n",
       "    fig.send_message('closing', msg);\n",
       "    // fig.ws.close()\n",
       "};\n",
       "\n",
       "mpl.figure.prototype.push_to_output = function (_remove_interactive) {\n",
       "    // Turn the data on the canvas into data in the output cell.\n",
       "    var width = this.canvas.width / mpl.ratio;\n",
       "    var dataURL = this.canvas.toDataURL();\n",
       "    this.cell_info[1]['text/html'] =\n",
       "        '<img src=\"' + dataURL + '\" width=\"' + width + '\">';\n",
       "};\n",
       "\n",
       "mpl.figure.prototype.updated_canvas_event = function () {\n",
       "    // Tell IPython that the notebook contents must change.\n",
       "    IPython.notebook.set_dirty(true);\n",
       "    this.send_message('ack', {});\n",
       "    var fig = this;\n",
       "    // Wait a second, then push the new image to the DOM so\n",
       "    // that it is saved nicely (might be nice to debounce this).\n",
       "    setTimeout(function () {\n",
       "        fig.push_to_output();\n",
       "    }, 1000);\n",
       "};\n",
       "\n",
       "mpl.figure.prototype._init_toolbar = function () {\n",
       "    var fig = this;\n",
       "\n",
       "    var toolbar = document.createElement('div');\n",
       "    toolbar.classList = 'btn-toolbar';\n",
       "    this.root.appendChild(toolbar);\n",
       "\n",
       "    function on_click_closure(name) {\n",
       "        return function (_event) {\n",
       "            return fig.toolbar_button_onclick(name);\n",
       "        };\n",
       "    }\n",
       "\n",
       "    function on_mouseover_closure(tooltip) {\n",
       "        return function (event) {\n",
       "            if (!event.currentTarget.disabled) {\n",
       "                return fig.toolbar_button_onmouseover(tooltip);\n",
       "            }\n",
       "        };\n",
       "    }\n",
       "\n",
       "    fig.buttons = {};\n",
       "    var buttonGroup = document.createElement('div');\n",
       "    buttonGroup.classList = 'btn-group';\n",
       "    var button;\n",
       "    for (var toolbar_ind in mpl.toolbar_items) {\n",
       "        var name = mpl.toolbar_items[toolbar_ind][0];\n",
       "        var tooltip = mpl.toolbar_items[toolbar_ind][1];\n",
       "        var image = mpl.toolbar_items[toolbar_ind][2];\n",
       "        var method_name = mpl.toolbar_items[toolbar_ind][3];\n",
       "\n",
       "        if (!name) {\n",
       "            /* Instead of a spacer, we start a new button group. */\n",
       "            if (buttonGroup.hasChildNodes()) {\n",
       "                toolbar.appendChild(buttonGroup);\n",
       "            }\n",
       "            buttonGroup = document.createElement('div');\n",
       "            buttonGroup.classList = 'btn-group';\n",
       "            continue;\n",
       "        }\n",
       "\n",
       "        button = fig.buttons[name] = document.createElement('button');\n",
       "        button.classList = 'btn btn-default';\n",
       "        button.href = '#';\n",
       "        button.title = name;\n",
       "        button.innerHTML = '<i class=\"fa ' + image + ' fa-lg\"></i>';\n",
       "        button.addEventListener('click', on_click_closure(method_name));\n",
       "        button.addEventListener('mouseover', on_mouseover_closure(tooltip));\n",
       "        buttonGroup.appendChild(button);\n",
       "    }\n",
       "\n",
       "    if (buttonGroup.hasChildNodes()) {\n",
       "        toolbar.appendChild(buttonGroup);\n",
       "    }\n",
       "\n",
       "    // Add the status bar.\n",
       "    var status_bar = document.createElement('span');\n",
       "    status_bar.classList = 'mpl-message pull-right';\n",
       "    toolbar.appendChild(status_bar);\n",
       "    this.message = status_bar;\n",
       "\n",
       "    // Add the close button to the window.\n",
       "    var buttongrp = document.createElement('div');\n",
       "    buttongrp.classList = 'btn-group inline pull-right';\n",
       "    button = document.createElement('button');\n",
       "    button.classList = 'btn btn-mini btn-primary';\n",
       "    button.href = '#';\n",
       "    button.title = 'Stop Interaction';\n",
       "    button.innerHTML = '<i class=\"fa fa-power-off icon-remove icon-large\"></i>';\n",
       "    button.addEventListener('click', function (_evt) {\n",
       "        fig.handle_close(fig, {});\n",
       "    });\n",
       "    button.addEventListener(\n",
       "        'mouseover',\n",
       "        on_mouseover_closure('Stop Interaction')\n",
       "    );\n",
       "    buttongrp.appendChild(button);\n",
       "    var titlebar = this.root.querySelector('.ui-dialog-titlebar');\n",
       "    titlebar.insertBefore(buttongrp, titlebar.firstChild);\n",
       "};\n",
       "\n",
       "mpl.figure.prototype._remove_fig_handler = function () {\n",
       "    this.close_ws(this, {});\n",
       "};\n",
       "\n",
       "mpl.figure.prototype._root_extra_style = function (el) {\n",
       "    el.style.boxSizing = 'content-box'; // override notebook setting of border-box.\n",
       "    el.addEventListener('remove', this._remove_fig_handler);\n",
       "};\n",
       "\n",
       "mpl.figure.prototype._canvas_extra_style = function (el) {\n",
       "    // this is important to make the div 'focusable\n",
       "    el.setAttribute('tabindex', 0);\n",
       "    // reach out to IPython and tell the keyboard manager to turn it's self\n",
       "    // off when our div gets focus\n",
       "\n",
       "    // location in version 3\n",
       "    if (IPython.notebook.keyboard_manager) {\n",
       "        IPython.notebook.keyboard_manager.register_events(el);\n",
       "    } else {\n",
       "        // location in version 2\n",
       "        IPython.keyboard_manager.register_events(el);\n",
       "    }\n",
       "};\n",
       "\n",
       "mpl.figure.prototype._key_event_extra = function (event, _name) {\n",
       "    var manager = IPython.notebook.keyboard_manager;\n",
       "    if (!manager) {\n",
       "        manager = IPython.keyboard_manager;\n",
       "    }\n",
       "\n",
       "    // Check for shift+enter\n",
       "    if (event.shiftKey && event.which === 13) {\n",
       "        this.canvas_div.blur();\n",
       "        // select the cell after this one\n",
       "        var index = IPython.notebook.find_cell_index(this.cell_info[0]);\n",
       "        IPython.notebook.select(index + 1);\n",
       "    }\n",
       "};\n",
       "\n",
       "mpl.figure.prototype.handle_save = function (fig, _msg) {\n",
       "    fig.ondownload(fig, null);\n",
       "};\n",
       "\n",
       "mpl.find_output_cell = function (html_output) {\n",
       "    // Return the cell and output element which can be found *uniquely* in the notebook.\n",
       "    // Note - this is a bit hacky, but it is done because the \"notebook_saving.Notebook\"\n",
       "    // IPython event is triggered only after the cells have been serialised, which for\n",
       "    // our purposes (turning an active figure into a static one), is too late.\n",
       "    var cells = IPython.notebook.get_cells();\n",
       "    var ncells = cells.length;\n",
       "    for (var i = 0; i < ncells; i++) {\n",
       "        var cell = cells[i];\n",
       "        if (cell.cell_type === 'code') {\n",
       "            for (var j = 0; j < cell.output_area.outputs.length; j++) {\n",
       "                var data = cell.output_area.outputs[j];\n",
       "                if (data.data) {\n",
       "                    // IPython >= 3 moved mimebundle to data attribute of output\n",
       "                    data = data.data;\n",
       "                }\n",
       "                if (data['text/html'] === html_output) {\n",
       "                    return [cell, data, j];\n",
       "                }\n",
       "            }\n",
       "        }\n",
       "    }\n",
       "};\n",
       "\n",
       "// Register the function which deals with the matplotlib target/channel.\n",
       "// The kernel may be null if the page has been refreshed.\n",
       "if (IPython.notebook.kernel !== null) {\n",
       "    IPython.notebook.kernel.comm_manager.register_target(\n",
       "        'matplotlib',\n",
       "        mpl.mpl_figure_comm\n",
       "    );\n",
       "}\n"
      ],
      "text/plain": [
       "<IPython.core.display.Javascript object>"
      ]
     },
     "metadata": {},
     "output_type": "display_data"
    },
    {
     "data": {
      "text/html": [
       "<img src=\"data:image/png;base64,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\" width=\"640\">"
      ],
      "text/plain": [
       "<IPython.core.display.HTML object>"
      ]
     },
     "metadata": {},
     "output_type": "display_data"
    }
   ],
   "source": [
    "df['yr_built'].hist();"
   ]
  },
  {
   "cell_type": "code",
   "execution_count": null,
   "metadata": {},
   "outputs": [],
   "source": [
    "df['price'].describe()"
   ]
  },
  {
   "cell_type": "code",
   "execution_count": null,
   "metadata": {},
   "outputs": [],
   "source": [
    "len(df[df.duplicated()])"
   ]
  },
  {
   "cell_type": "markdown",
   "metadata": {},
   "source": [
    "We'll drop the single duplicated record."
   ]
  },
  {
   "cell_type": "code",
   "execution_count": null,
   "metadata": {},
   "outputs": [],
   "source": [
    "df.drop_duplicates(inplace=True)"
   ]
  },
  {
   "cell_type": "code",
   "execution_count": null,
   "metadata": {},
   "outputs": [],
   "source": [
    "for col in df.columns:\n",
    "    if df[col].isna().sum() > 0:\n",
    "        print(col, df[col].isna().sum()) "
   ]
  },
  {
   "cell_type": "markdown",
   "metadata": {},
   "source": [
    "Later we'll create a feature that can compare values to neighbors. Perhaps we can infer these values from what seems to be popular with neighbors of these listings."
   ]
  },
  {
   "cell_type": "markdown",
   "metadata": {},
   "source": [
    "## BIG PARAGRAPH ABOUT DATA UNDERSTANDING"
   ]
  },
  {
   "cell_type": "markdown",
   "metadata": {},
   "source": [
    "# Data Preparation\n",
    "## Adding and Adjusting Columns\n",
    "### Creating and Extracting, Based on Existing Columns"
   ]
  },
  {
   "cell_type": "markdown",
   "metadata": {},
   "source": [
    "There are a few relatively obvious features we can create that should help us understand this data set:\n",
    "- price-per-square-foot (from price and sqft_living_area)\n",
    "- city (from address)\n",
    "- state (from address)\n",
    "- zip (from address)"
   ]
  },
  {
   "cell_type": "code",
   "execution_count": null,
   "metadata": {},
   "outputs": [],
   "source": [
    "df['ppsqft'] = df['price'] / df['sqft_living']\n",
    "df['state'] = df['address'].apply(lambda x: str(x).split(' ')[-4])\n",
    "df['zip'] = df['address'].apply(lambda x: str(x).split(' ')[-3].replace(',', ''))\n",
    "df['city'] = df['address'].apply(lambda x: str(x).split(',')[-3].strip())"
   ]
  },
  {
   "cell_type": "markdown",
   "metadata": {},
   "source": [
    "### Label Encoding\n",
    "The \"view\", \"condition\", and \"grade\" fields should all be label-encoded."
   ]
  },
  {
   "cell_type": "code",
   "execution_count": null,
   "metadata": {},
   "outputs": [],
   "source": [
    "def view(x):\n",
    "    if x == 'NONE':\n",
    "        return 0\n",
    "    elif x == 'FAIR':\n",
    "        return 1\n",
    "    elif x == 'AVERAGE':\n",
    "        return 2\n",
    "    elif x == 'GOOD':\n",
    "        return 3\n",
    "    elif x == 'EXCELLENT':\n",
    "        return 4\n",
    "\n",
    "df['view'] = df['view'].apply(lambda x: view(x))\n",
    "\n",
    "def condition(x):\n",
    "    if x == 'Poor':\n",
    "        return 0\n",
    "    elif x == 'Fair':\n",
    "        return 1\n",
    "    elif x == 'Average':\n",
    "        return 2\n",
    "    elif x == 'Good':\n",
    "        return 3\n",
    "    elif x == 'Very Good':\n",
    "        return 4\n",
    "\n",
    "df['condition'] = df['condition'].apply(lambda x: condition(x))\n",
    "\n",
    "df['grade'] = df['grade'].apply(lambda x: int(x[:2].strip()))"
   ]
  },
  {
   "cell_type": "markdown",
   "metadata": {},
   "source": [
    "The \"year renovated\" has a zero value for most of the entries, which is not mathematically compatible. We'll create some more relevant fields: From the \"date\" feature we'll extract the \"year of sale\" and then the \"age\" of the house. Then for renovations we'll assume a new build is as good as a renovation, so \"years since renovation\" can just be the same as a house's age if it's never been renovated."
   ]
  },
  {
   "cell_type": "code",
   "execution_count": null,
   "metadata": {},
   "outputs": [],
   "source": [
    "df['year_of_sale'] = df['date'].apply(lambda x: int(x[-4:]))\n",
    "df['age'] = df['year_of_sale'] - df['yr_built']\n",
    "df['years_since_renovation'] = df.apply(\n",
    "    lambda x: x.age if x.yr_renovated == 0 else x.year_of_sale - x.yr_renovated, axis=1)"
   ]
  },
  {
   "cell_type": "markdown",
   "metadata": {},
   "source": [
    "## Exploring the Data Via Lat/Long Maps and Removing Out-of-Range Records"
   ]
  },
  {
   "cell_type": "markdown",
   "metadata": {},
   "source": [
    "Let's get an idea of where these listings are. We can do so by making a scatterplot of the longitude and latitude entries."
   ]
  },
  {
   "cell_type": "code",
   "execution_count": null,
   "metadata": {
    "scrolled": false
   },
   "outputs": [],
   "source": [
    "fig, ax = plt.subplots()\n",
    "ax.scatter(df['long'],df['lat'])\n",
    "fig.tight_layout();"
   ]
  },
  {
   "cell_type": "markdown",
   "metadata": {},
   "source": [
    "For some reason, this appears to include listings from nearly all 50 states, while were supposed to be focusing on just one county in Washington."
   ]
  },
  {
   "cell_type": "code",
   "execution_count": null,
   "metadata": {},
   "outputs": [],
   "source": [
    "print('Total listings: ' + str(len(df)))\n",
    "print('Out of state listings: ' + str(len(df[df['state'] != 'Washington'])))"
   ]
  },
  {
   "cell_type": "markdown",
   "metadata": {},
   "source": [
    "We'll get rid of out-of-state listings and look just at Washington."
   ]
  },
  {
   "cell_type": "code",
   "execution_count": null,
   "metadata": {},
   "outputs": [],
   "source": [
    "# group the indices of 'bad' records in a set to be dropped\n",
    "out_of_range = set(df[df['state'] != 'Washington'].index)\n",
    "\n",
    "# make a fresh copy of the temporary dataframe, df_map\n",
    "df_map = df.copy()\n",
    "\n",
    "# drop the bad indices\n",
    "df_map.drop(out_of_range, inplace=True)"
   ]
  },
  {
   "cell_type": "code",
   "execution_count": null,
   "metadata": {
    "scrolled": true
   },
   "outputs": [],
   "source": [
    "fig, ax = plt.subplots()\n",
    "ax.scatter(df_map['long'],df_map['lat'])\n",
    "fig.tight_layout();"
   ]
  },
  {
   "cell_type": "code",
   "execution_count": null,
   "metadata": {},
   "outputs": [],
   "source": [
    "df['city'].value_counts()"
   ]
  },
  {
   "cell_type": "markdown",
   "metadata": {},
   "source": [
    "There are still some far-flung properties in places like Spokane. We could just include/exclude based on the \"city\" field, but there are 315 unique cities, too many to sort in any simple way.\n",
    "\n",
    "We can look up cities using long/lat approaching from all directions and eliminate anything that isn't in King County. (We can just look up what county the city belongs to on Wikipedia.)"
   ]
  },
  {
   "cell_type": "code",
   "execution_count": null,
   "metadata": {
    "scrolled": false
   },
   "outputs": [],
   "source": [
    "# from the east\n",
    "df_map.groupby('city').mean()[['long']].sort_values('long', ascending=False)[:5]"
   ]
  },
  {
   "cell_type": "code",
   "execution_count": null,
   "metadata": {},
   "outputs": [],
   "source": [
    "# update the set of indices of 'bad' records to be dropped\n",
    "out_of_range.update(df[df['city'] == 'Clarkston'].index)\n",
    "out_of_range.update(df[df['city'] == 'Spokane'].index)\n",
    "\n",
    "# make a fresh copy of the temporary dataframe, df_map\n",
    "df_map = df.copy()\n",
    "\n",
    "# drop the bad indices\n",
    "df_map.drop(out_of_range, inplace=True)"
   ]
  },
  {
   "cell_type": "code",
   "execution_count": null,
   "metadata": {
    "scrolled": false
   },
   "outputs": [],
   "source": [
    "# from the south\n",
    "df_map.groupby('city').mean()[['lat']].sort_values('lat', ascending=True)[:5]"
   ]
  },
  {
   "cell_type": "code",
   "execution_count": null,
   "metadata": {},
   "outputs": [],
   "source": [
    "# update the set of indices of 'bad' records to be dropped\n",
    "out_of_range.update(df[df['city'] == 'Vancouver'].index)\n",
    "out_of_range.update(df[df['city'] == 'Eatonville'].index)\n",
    "out_of_range.update(df[df['city'] == 'Spanaway'].index)\n",
    "out_of_range.update(df[df['city'] == 'Puyallup'].index)\n",
    "\n",
    "# make a fresh copy of the temporary dataframe, df_map\n",
    "df_map = df.copy()\n",
    "\n",
    "# drop the bad indices\n",
    "df_map.drop(out_of_range, inplace=True)"
   ]
  },
  {
   "cell_type": "markdown",
   "metadata": {},
   "source": [
    "This region features two cities, Milton and Auburn, that spill over into neighboring Pierce County to the south."
   ]
  },
  {
   "cell_type": "code",
   "execution_count": null,
   "metadata": {},
   "outputs": [],
   "source": [
    "df_map[\n",
    "       (df_map['lat'] < 47.257510) &\n",
    "       (df_map['long'] < -122.144411)\n",
    "      ][['address', 'price', 'sqft_living', 'sqft_lot', 'bedrooms']]"
   ]
  },
  {
   "cell_type": "code",
   "execution_count": null,
   "metadata": {},
   "outputs": [],
   "source": [
    "highlight = df_map[\n",
    "       (df_map['lat'] < 47.257510) &\n",
    "       (df_map['long'] < -122.144411)\n",
    "      ].index\n",
    "\n",
    "blue_dots = df_map.drop(highlight)\n",
    "red_dots = df_map.loc[highlight]\n",
    "\n",
    "fig, ax = plt.subplots()\n",
    "\n",
    "blue_dots.plot.scatter(x='long', y='lat', alpha=0.7, color='blue', ax=ax, label='the rest')\n",
    "red_dots.plot.scatter(x='long', y='lat', alpha=0.7, color='red', s=100, ax=ax, label='highlighted')\n",
    "\n",
    "ax.legend()\n",
    "\n",
    "fig.tight_layout();"
   ]
  },
  {
   "cell_type": "markdown",
   "metadata": {},
   "source": [
    "There are 3 more listings that are essentially contiguous with the rest of the records, but technically belong to another county. They don't otherwise appear anomalous, so we'll keep them."
   ]
  },
  {
   "cell_type": "code",
   "execution_count": null,
   "metadata": {
    "scrolled": false
   },
   "outputs": [],
   "source": [
    "# from the north\n",
    "df_map.groupby('city').mean()[['lat']].sort_values('lat', ascending=False)[:8]"
   ]
  },
  {
   "cell_type": "code",
   "execution_count": null,
   "metadata": {},
   "outputs": [],
   "source": [
    "# update the set of indices of 'bad' records to be dropped\n",
    "out_of_range.update(df[df['city'] == 'Tulalip'].index)\n",
    "out_of_range.update(df[df['city'] == 'Arlington'].index)\n",
    "out_of_range.update(df[df['city'] == 'Marysville'].index)\n",
    "out_of_range.update(df[df['city'] == 'Monroe'].index)\n",
    "out_of_range.update(df[df['city'] == 'Snohomish'].index)\n",
    "\n",
    "# make a fresh copy of the temporary dataframe, df_map\n",
    "df_map = df.copy()\n",
    "\n",
    "# drop the bad indices\n",
    "df_map.drop(out_of_range, inplace=True)"
   ]
  },
  {
   "cell_type": "code",
   "execution_count": null,
   "metadata": {
    "scrolled": true
   },
   "outputs": [],
   "source": [
    "# from the west\n",
    "df_map.groupby('city').mean()[['long']].sort_values('long', ascending=True)[:5]"
   ]
  },
  {
   "cell_type": "code",
   "execution_count": null,
   "metadata": {
    "scrolled": false
   },
   "outputs": [],
   "source": [
    "fig, ax = plt.subplots()\n",
    "ax.scatter(df_map['long'],df_map['lat'], color=\"blue\")\n",
    "fig.tight_layout();"
   ]
  },
  {
   "cell_type": "markdown",
   "metadata": {},
   "source": [
    "We'll investigate the dot by itself that looks like it's just above the county line."
   ]
  },
  {
   "cell_type": "code",
   "execution_count": null,
   "metadata": {
    "scrolled": false
   },
   "outputs": [],
   "source": [
    "df_map.sort_values('lat', ascending=False)[:3][['lat', 'long', 'city', 'zip']]"
   ]
  },
  {
   "cell_type": "code",
   "execution_count": null,
   "metadata": {},
   "outputs": [],
   "source": [
    "highlight = [24605]\n",
    "\n",
    "blue_dots = df_map.drop(highlight)\n",
    "red_dots = df_map.loc[highlight]\n",
    "\n",
    "fig, ax = plt.subplots()\n",
    "\n",
    "blue_dots.plot.scatter(x='long', y='lat', alpha=0.7, color='blue', ax=ax, label='the rest')\n",
    "red_dots.plot.scatter(x='long', y='lat', alpha=0.7, color='red', s=100, ax=ax, label='highlighted')\n",
    "\n",
    "ax.legend()\n",
    "\n",
    "fig.tight_layout();"
   ]
  },
  {
   "cell_type": "markdown",
   "metadata": {},
   "source": [
    "The single northernmost anomalous dot is at a latitude located neither in King County nor in Woodinville. It could be an error, but we wouldn't know how to correct it, so we'll drop it."
   ]
  },
  {
   "cell_type": "code",
   "execution_count": null,
   "metadata": {},
   "outputs": [],
   "source": [
    "# update the set of indices of 'bad' records to be dropped\n",
    "out_of_range.add(24605)\n",
    "\n",
    "# make a fresh copy of the temporary dataframe, df_map\n",
    "df_map = df.copy()\n",
    "\n",
    "# drop the bad indices\n",
    "df_map.drop(out_of_range, inplace=True)"
   ]
  },
  {
   "cell_type": "markdown",
   "metadata": {},
   "source": [
    "Now we'll look at the strip of dots to the northeast along State Highway 2."
   ]
  },
  {
   "cell_type": "code",
   "execution_count": null,
   "metadata": {},
   "outputs": [],
   "source": [
    "highlight = df_map[(df_map['lat'] > 47.6) & (df_map['long'] > -121.6)].index\n",
    "\n",
    "blue_dots = df_map.drop(highlight)\n",
    "red_dots = df_map.loc[highlight]\n",
    "\n",
    "fig, ax = plt.subplots()\n",
    "\n",
    "blue_dots.plot.scatter(x='long', y='lat', alpha=0.7, color='blue', ax=ax, label='the rest')\n",
    "red_dots.plot.scatter(x='long', y='lat', alpha=0.7, color='red', s=100, ax=ax, label='highlighted')\n",
    "\n",
    "ax.legend()\n",
    "\n",
    "fig.tight_layout();"
   ]
  },
  {
   "cell_type": "code",
   "execution_count": null,
   "metadata": {},
   "outputs": [],
   "source": [
    "df_map[(df_map['lat'] > 47.6) & (df_map['long'] > -121.6)]['city'].value_counts()"
   ]
  },
  {
   "cell_type": "code",
   "execution_count": null,
   "metadata": {},
   "outputs": [],
   "source": [
    "df_map[(df_map['lat'] > 47.6) & (df_map['long'] > -121.6)]['age'].hist();"
   ]
  },
  {
   "cell_type": "markdown",
   "metadata": {},
   "source": [
    "There are 26 listings along State Highway 2 that are pretty far out from the main urban area. This appears to be about an hour's drive in good traffic from the rest of the city. It doesn't seem relevant enough to the data set to keep, so we'll drop them."
   ]
  },
  {
   "cell_type": "code",
   "execution_count": null,
   "metadata": {},
   "outputs": [],
   "source": [
    "# update the set of indices of 'bad' records to be dropped\n",
    "out_of_range.update(df_map[(df_map['lat'] > 47.6) & (df_map['long'] > -121.6)].index)\n",
    "\n",
    "# make a fresh copy of the temporary dataframe, df_map\n",
    "df_map = df.copy()\n",
    "\n",
    "# drop the bad indices\n",
    "df_map.drop(out_of_range, inplace=True)"
   ]
  },
  {
   "cell_type": "markdown",
   "metadata": {},
   "source": [
    "Now we'll look at the stray dot to the south."
   ]
  },
  {
   "cell_type": "code",
   "execution_count": null,
   "metadata": {},
   "outputs": [],
   "source": [
    "df_map[(df_map['lat'] < 47.2) & (df_map['long'] > -121.8)][['city', 'lat', 'long', 'address']]"
   ]
  },
  {
   "cell_type": "code",
   "execution_count": null,
   "metadata": {},
   "outputs": [],
   "source": [
    "df[df['city'] == 'Enumclaw']['zip'].value_counts()"
   ]
  },
  {
   "cell_type": "code",
   "execution_count": null,
   "metadata": {},
   "outputs": [],
   "source": [
    "df[df['zip'] == '98092']['city'].value_counts()"
   ]
  },
  {
   "cell_type": "markdown",
   "metadata": {},
   "source": [
    "This appears to be a remote community, far from the city it claims (Enumclaw) or the city normally associated with its zip code (Auburn). It doesn't appear to be an error, but it still represents a community with no immediate neighbors for comparison. As such, we'll drop it."
   ]
  },
  {
   "cell_type": "code",
   "execution_count": null,
   "metadata": {},
   "outputs": [],
   "source": [
    "# update the set of indices of 'bad' records to be dropped\n",
    "out_of_range.add(2930)\n",
    "\n",
    "# make a fresh copy of the temporary dataframe, df_map\n",
    "df_map = df.copy()\n",
    "\n",
    "# drop the bad indices\n",
    "df_map.drop(out_of_range, inplace=True)"
   ]
  },
  {
   "cell_type": "markdown",
   "metadata": {},
   "source": [
    "Now we'll look at the stray dots in the middle by pinching the latitude and searching longitude from east to west."
   ]
  },
  {
   "cell_type": "code",
   "execution_count": null,
   "metadata": {},
   "outputs": [],
   "source": [
    "df_map[(df_map['lat'] > 47.3)\n",
    "       & (df_map['lat'] < 47.6)].sort_values('long', ascending=False)[:8][['lat', 'long', 'city', 'zip']]"
   ]
  },
  {
   "cell_type": "markdown",
   "metadata": {},
   "source": [
    "Investigating these coordinates on Google Maps shows that he first three of these are something like the \"Enumclaw\" anomaly discussed earlier, but everything else appears to belong to a cluster worth keeping. We'll drop just those three."
   ]
  },
  {
   "cell_type": "code",
   "execution_count": null,
   "metadata": {},
   "outputs": [],
   "source": [
    "# update the set of indices of 'bad' records to be dropped\n",
    "out_of_range.update(df_map[(df_map['lat'] > 47.3)\n",
    "                           & (df_map['lat'] < 47.6)].sort_values('long', ascending=False)[:3].index)\n",
    "\n",
    "# make a fresh copy of the temporary dataframe, df_map\n",
    "df_map = df.copy()\n",
    "\n",
    "# drop the bad indices\n",
    "df_map.drop(out_of_range, inplace=True)"
   ]
  },
  {
   "cell_type": "markdown",
   "metadata": {},
   "source": [
    "Now we'll look at two final listings that appear remotely located from the rest."
   ]
  },
  {
   "cell_type": "code",
   "execution_count": null,
   "metadata": {},
   "outputs": [],
   "source": [
    "highlight = df_map[(df_map['lat'] > 47.4) &\n",
    "       (df_map['lat'] < 47.475) &\n",
    "       (df_map['long'] > -121.93) &\n",
    "       (df_map['long'] < -121.8)\n",
    "      ].index\n",
    "\n",
    "blue_dots = df_map.drop(highlight)\n",
    "red_dots = df_map.loc[highlight]\n",
    "\n",
    "fig, ax = plt.subplots()\n",
    "\n",
    "blue_dots.plot.scatter(x='long', y='lat', alpha=0.7, color='blue', ax=ax, label='the rest')\n",
    "red_dots.plot.scatter(x='long', y='lat', alpha=0.7, color='red', s=100, ax=ax, label='highlighted')\n",
    "\n",
    "ax.legend()\n",
    "\n",
    "fig.tight_layout();"
   ]
  },
  {
   "cell_type": "code",
   "execution_count": null,
   "metadata": {},
   "outputs": [],
   "source": [
    "df_map[(df_map['lat'] > 47.4) &\n",
    "       (df_map['lat'] < 47.475) &\n",
    "       (df_map['long'] > -121.93) &\n",
    "       (df_map['long'] < -121.8)\n",
    "      ][['address', 'price', 'grade', 'condition', 'heat_source', 'sqft_living', 'sqft_lot', 'bathrooms']]"
   ]
  },
  {
   "cell_type": "markdown",
   "metadata": {},
   "source": [
    "One of these is a \"low grade\" 1-bedroom that sold for $1.115 million, which raises enough questions. It would seem fair to drop both of them."
   ]
  },
  {
   "cell_type": "code",
   "execution_count": null,
   "metadata": {},
   "outputs": [],
   "source": [
    "# update the set of indices of 'bad' records to be dropped\n",
    "out_of_range.update([20448, 24342])\n",
    "\n",
    "# make a fresh copy of the temporary dataframe, df_map\n",
    "df_map = df.copy()\n",
    "\n",
    "# drop the bad indices\n",
    "df_map.drop(out_of_range, inplace=True)"
   ]
  },
  {
   "cell_type": "code",
   "execution_count": null,
   "metadata": {
    "scrolled": false
   },
   "outputs": [],
   "source": [
    "fig, ax = plt.subplots(figsize=(15,12))\n",
    "\n",
    "ax.scatter(df_map['long'],df_map['lat']);"
   ]
  },
  {
   "cell_type": "markdown",
   "metadata": {},
   "source": [
    "Geographically, at least, this looks like the data we want to work with."
   ]
  },
  {
   "cell_type": "code",
   "execution_count": null,
   "metadata": {},
   "outputs": [],
   "source": [
    "print('We have dropped ' + str(len(df) - len(df_map)) + ' records, about '\n",
    "      + str(round(100*(1 - len(df_map) / len(df)),2)) + '% of them.')"
   ]
  },
  {
   "cell_type": "markdown",
   "metadata": {},
   "source": [
    "We'll lock in the changes to the main dataframe."
   ]
  },
  {
   "cell_type": "code",
   "execution_count": null,
   "metadata": {},
   "outputs": [],
   "source": [
    "df = df_map.copy()"
   ]
  },
  {
   "cell_type": "markdown",
   "metadata": {},
   "source": [
    "Now we'll build some functions that will give us a list of everyone's closest neighbors for the purpose of comparing values with listings nearby."
   ]
  },
  {
   "cell_type": "code",
   "execution_count": null,
   "metadata": {},
   "outputs": [],
   "source": [
    "# compute the distance in feet between two coordinates\n",
    "def distance(lat1, long1, lat2, long2):\n",
    "    x = abs(lat2-lat1)*364732.89\n",
    "    y = abs(long2-long1)*249526.96\n",
    "    return np.sqrt(x**2 + y**2)"
   ]
  },
  {
   "cell_type": "markdown",
   "metadata": {},
   "source": [
    "The \"neighbors\" function was developed over many drafts. The goal is to generate a list of neighbors for each listing. The criteria for inclusion are 1) proximity, as measured by the distance function, and 2) same or similar number of bedrooms. The idea is to find a list of properties worthy of comparison so that we can analyze what is essentially normal for homes of that size in that area and possibly identify anomalies indicitave of errors (and drop those records).\n",
    "\n",
    "It isn't convenient or feasible to generate the same number of neighbors for every listing nor to limit each list of neighbors to the same radius for all listings. The best version of the function starts with a radius of 250 feet and either expands or contracts the radius until it generates a list of between 15 and 40 neighbors within that modified desired radius."
   ]
  },
  {
   "cell_type": "code",
   "execution_count": null,
   "metadata": {},
   "outputs": [],
   "source": [
    "def neighbors(brs, lat, long, radius, min_neighbor_count, max_neighbor_count):\n",
    "    # generate an initial list according to number of bedrooms\n",
    "    if brs == 0:\n",
    "        neighbor_list = df[\n",
    "            (df['bedrooms'] < 2) &\n",
    "            (distance(lat, long, df['lat'], df['long']) < radius)\n",
    "        ].index\n",
    "    elif brs == 1:\n",
    "        neighbor_list = df[\n",
    "            (df['bedrooms'] < 3) &\n",
    "            (distance(lat, long, df['lat'], df['long']) < radius)\n",
    "        ].index\n",
    "    elif brs == 2:\n",
    "        neighbor_list = df[\n",
    "            (df['bedrooms'] > 0) & (df['bedrooms'] < 4) &\n",
    "            (distance(lat, long, df['lat'], df['long']) < radius)\n",
    "        ].index\n",
    "    elif brs == 3:\n",
    "        neighbor_list = df[\n",
    "            (df['bedrooms'] > 1) & (df['bedrooms'] < 5) &\n",
    "            (distance(lat, long, df['lat'], df['long']) < radius)\n",
    "        ].index\n",
    "    elif brs < 6:\n",
    "        neighbor_list = df[\n",
    "            (df['bedrooms'] > 2) & (df['bedrooms'] < 7) &\n",
    "            (distance(lat, long, df['lat'], df['long']) < radius)\n",
    "        ].index\n",
    "    elif brs > 5:\n",
    "        neighbor_list = df[\n",
    "            (df['bedrooms'] > 4) &\n",
    "            (distance(lat, long, df['lat'], df['long']) < radius)\n",
    "        ].index\n",
    "    \n",
    "    # expand the radius and rerun if the list is too small\n",
    "    if len(neighbor_list) < min_neighbor_count:\n",
    "        too_small_factor = min_neighbor_count / len(neighbor_list)\n",
    "        radius *= 3.5\n",
    "        return neighbors(brs, lat, long, radius, min_neighbor_count, max_neighbor_count)\n",
    "    # contract the radius and rerun if the list is too long\n",
    "    elif len(neighbor_list) > max_neighbor_count:\n",
    "        too_big_factor = max_neighbor_count / len(neighbor_list)\n",
    "        radius *= 0.75\n",
    "        return neighbors(brs, lat, long, radius, min_neighbor_count, max_neighbor_count)\n",
    "    # accept the list otherwise\n",
    "    else:\n",
    "        return neighbor_list"
   ]
  },
  {
   "cell_type": "markdown",
   "metadata": {},
   "source": [
    "This function helps generate new columns that show the median of a certain column value, e.g. living area, for all of a listing's neighbors (from its neighbor list)."
   ]
  },
  {
   "cell_type": "code",
   "execution_count": null,
   "metadata": {},
   "outputs": [],
   "source": [
    "def nearby(neighbor_list, column):\n",
    "    return df.loc[neighbor_list][column].median()"
   ]
  },
  {
   "cell_type": "markdown",
   "metadata": {},
   "source": [
    "The cells below create the neighbor lists and generates the 'nearby' features — the median value of a neighbor list for a given feature\n",
    "\n",
    "**WARNING — the following cells take several minutes to run**"
   ]
  },
  {
   "cell_type": "code",
   "execution_count": null,
   "metadata": {},
   "outputs": [],
   "source": [
    "df['neighbor_list'] = df.apply(lambda x: neighbors(x.bedrooms, x.lat, x.long, 250, 15, 40), axis=1)"
   ]
  },
  {
   "cell_type": "code",
   "execution_count": null,
   "metadata": {
    "scrolled": true
   },
   "outputs": [],
   "source": [
    "df['neighbor_counts'] =df['neighbor_list'].apply(lambda x: len(x))\n",
    "df['neighbor_counts'].value_counts()"
   ]
  },
  {
   "cell_type": "code",
   "execution_count": null,
   "metadata": {},
   "outputs": [],
   "source": [
    "df['neighbor_counts'].hist();"
   ]
  },
  {
   "cell_type": "code",
   "execution_count": null,
   "metadata": {},
   "outputs": [],
   "source": [
    "fig, ax = plt.subplots(figsize=(11,8))\n",
    "\n",
    "df.plot.scatter(x='long', y='lat', c='neighbor_counts', cmap='Blues', ax=ax)\n",
    "fig.suptitle('Size of Neighbor List', size=18);"
   ]
  },
  {
   "cell_type": "code",
   "execution_count": null,
   "metadata": {},
   "outputs": [],
   "source": [
    "df['nearby_price'] = df.apply(lambda x: nearby(x.neighbor_list, 'price'), axis=1)"
   ]
  },
  {
   "cell_type": "code",
   "execution_count": null,
   "metadata": {},
   "outputs": [],
   "source": [
    "df['nearby_sqft_living'] = df.apply(lambda x: nearby(x.neighbor_list, 'sqft_living'), axis=1)"
   ]
  },
  {
   "cell_type": "code",
   "execution_count": null,
   "metadata": {},
   "outputs": [],
   "source": [
    "df['nearby_sqft_lot'] = df.apply(lambda x: nearby(x.neighbor_list, 'sqft_lot'), axis=1)"
   ]
  },
  {
   "cell_type": "code",
   "execution_count": null,
   "metadata": {},
   "outputs": [],
   "source": [
    "df['nearby_ppsqft'] = df.apply(lambda x: nearby(x.neighbor_list, 'ppsqft'), axis=1)"
   ]
  },
  {
   "cell_type": "code",
   "execution_count": null,
   "metadata": {},
   "outputs": [],
   "source": [
    "df['nearby_age'] = df.apply(lambda x: nearby(x.neighbor_list, 'age'), axis=1)"
   ]
  },
  {
   "cell_type": "markdown",
   "metadata": {},
   "source": [
    "These new features allow for more developed exploration of the data."
   ]
  },
  {
   "cell_type": "code",
   "execution_count": null,
   "metadata": {},
   "outputs": [],
   "source": [
    "fig, (ax1, ax2) = plt.subplots(ncols=2, figsize=(13,5))\n",
    "\n",
    "df.plot.scatter(x='long', y='lat', c='sqft_lot', cmap='Oranges', ax=ax1)\n",
    "df.plot.scatter(x='long', y='lat', c='nearby_sqft_lot', cmap='Oranges', ax=ax2)\n",
    "fig.suptitle('Two Heat Maps of Lot Size', size=18)\n",
    "fig.tight_layout();"
   ]
  },
  {
   "cell_type": "markdown",
   "metadata": {},
   "source": [
    "The second map shows a little more clearly where the bigger lots tend to be."
   ]
  },
  {
   "cell_type": "code",
   "execution_count": null,
   "metadata": {},
   "outputs": [],
   "source": [
    "fig, (ax1, ax2) = plt.subplots(ncols=2, figsize=(13,5))\n",
    "\n",
    "df.plot.scatter(x='long', y='lat', c='age', cmap='Blues', ax=ax1)\n",
    "df.plot.scatter(x='long', y='lat', c='nearby_age', cmap='Blues', ax=ax2)\n",
    "fig.suptitle('Two Heat Maps of Age', size=18)\n",
    "fig.tight_layout();"
   ]
  },
  {
   "cell_type": "markdown",
   "metadata": {},
   "source": [
    "The second map smooths out the differences to tell a clearer picture of the sequence of development. It also shows that there are pockets of newer developments amid older areas, possibly indicating gentrification"
   ]
  },
  {
   "cell_type": "markdown",
   "metadata": {},
   "source": [
    "As discussed at the very beginning, now we can interpolate missing values for heat source and sewer system. That is, for each listing with a missing value for heat source and/or sewer system, we'll assign the most popular value (mode) among that listing's neighbors."
   ]
  },
  {
   "cell_type": "code",
   "execution_count": null,
   "metadata": {},
   "outputs": [],
   "source": [
    "for listing in df[df['sewer_system'].isna()].index:\n",
    "    df.at[listing, 'sewer_system'] = df.loc[df.loc[listing]['neighbor_list']]['sewer_system'].mode()[0]\n",
    "for listing in df[df['heat_source'].isna()].index:\n",
    "    df.at[listing, 'heat_source'] = df.loc[df.loc[listing]['neighbor_list']]['heat_source'].mode()[0]"
   ]
  },
  {
   "cell_type": "markdown",
   "metadata": {},
   "source": [
    "We can also use the neighbor list features to identify anomalous records that are possibly just errors. We can give each listing a score based on the factors by which it differs from its neighbors in certain values. For example, we'll see a listing whose living area (\"3 sq ft\") is orders of magnitude smaller than its neighbors.\n",
    "\n",
    "(An earlier effort at this identified too many 'anomalies' by virtue of their exceptionally large lot areas, so we'll just look for exceptional values in price and living area.)"
   ]
  },
  {
   "cell_type": "code",
   "execution_count": null,
   "metadata": {},
   "outputs": [],
   "source": [
    "df.columns"
   ]
  },
  {
   "cell_type": "code",
   "execution_count": null,
   "metadata": {},
   "outputs": [],
   "source": [
    "def anom(val, neighbor_val):\n",
    "    return max(val/neighbor_val, neighbor_val/val)"
   ]
  },
  {
   "cell_type": "code",
   "execution_count": null,
   "metadata": {},
   "outputs": [],
   "source": [
    "df['anomalous_price'] = df.apply(lambda x: anom(x.price, x.nearby_price),axis=1)\n",
    "df['anomalous_sqft_living'] = df.apply(lambda x: anom(x.sqft_living, x.nearby_sqft_living),axis=1)\n",
    "df['anomalous_ppsqft'] = df.apply(lambda x: anom(x.ppsqft, x.nearby_ppsqft),axis=1)"
   ]
  },
  {
   "cell_type": "code",
   "execution_count": null,
   "metadata": {},
   "outputs": [],
   "source": [
    "len(df[df['anomalous_price'] > 15])"
   ]
  },
  {
   "cell_type": "code",
   "execution_count": null,
   "metadata": {},
   "outputs": [],
   "source": [
    "df[df['anomalous_price'] > 15]['anomalous_price'].hist();"
   ]
  },
  {
   "cell_type": "code",
   "execution_count": null,
   "metadata": {},
   "outputs": [],
   "source": [
    "highlight = df.sort_values('anomalous_price', ascending=False)[:34].index\n",
    "\n",
    "blue_dots = df_map.drop(highlight)\n",
    "red_dots = df_map.loc[highlight]\n",
    "\n",
    "fig, ax = plt.subplots(figsize=(11,8))\n",
    "\n",
    "blue_dots.plot.scatter(x='long', y='lat', alpha=0.7, color='blue', ax=ax, label='the rest')\n",
    "red_dots.plot.scatter(x='long', y='lat', alpha=0.7, color='red', s=100, ax=ax, label='highlighted')\n",
    "\n",
    "ax.legend();"
   ]
  },
  {
   "cell_type": "code",
   "execution_count": null,
   "metadata": {
    "scrolled": false
   },
   "outputs": [],
   "source": [
    "df.sort_values('anomalous_price', ascending=False)[:34][['price', 'nearby_price', 'address', 'city', 'zip']]"
   ]
  },
  {
   "cell_type": "markdown",
   "metadata": {},
   "source": [
    "The prices that are way lower than normal (for their neighborhood) seem like mistakes, and the prices that are way higher than normal might just be mansions or expansive ranches.\n",
    "\n",
    "It seems helpful to get rid of the likely mistakes (unusually low prices)."
   ]
  },
  {
   "cell_type": "code",
   "execution_count": null,
   "metadata": {},
   "outputs": [],
   "source": [
    "df.drop(df[\n",
    "    (df['price'] < 100000) & (df['anomalous_price'] > 15)\n",
    "].index, inplace=True)"
   ]
  },
  {
   "cell_type": "markdown",
   "metadata": {},
   "source": [
    "As for the unusually high prices, we can perhaps address those as outliers of the greater data set, not just compared to their neighbors."
   ]
  },
  {
   "cell_type": "code",
   "execution_count": null,
   "metadata": {},
   "outputs": [],
   "source": [
    "threshold = 9.8\n",
    "outliers = set(df[df['price'] > df['price'].mean() + threshold * df['price'].std()].index)\n",
    "\n",
    "print('There are', len(outliers), 'listings with a price of at least', min(df.loc[outliers]['price']))"
   ]
  },
  {
   "cell_type": "markdown",
   "metadata": {},
   "source": [
    "Let's drop everything $10 million and above."
   ]
  },
  {
   "cell_type": "code",
   "execution_count": null,
   "metadata": {},
   "outputs": [],
   "source": [
    "df.drop(df[df['price'] >= 10000000].index, inplace=True)"
   ]
  },
  {
   "cell_type": "code",
   "execution_count": null,
   "metadata": {
    "scrolled": true
   },
   "outputs": [],
   "source": [
    "len(df[df['anomalous_sqft_living'] > 3])"
   ]
  },
  {
   "cell_type": "code",
   "execution_count": null,
   "metadata": {
    "scrolled": true
   },
   "outputs": [],
   "source": [
    "df[df['anomalous_sqft_living'] > 3]['anomalous_sqft_living'].hist();"
   ]
  },
  {
   "cell_type": "markdown",
   "metadata": {},
   "source": [
    "Whoa. Let's get rid of the crazy outlier and try this again."
   ]
  },
  {
   "cell_type": "code",
   "execution_count": null,
   "metadata": {},
   "outputs": [],
   "source": [
    "df.drop(df[df['anomalous_sqft_living'] > 200].index, inplace=True)"
   ]
  },
  {
   "cell_type": "code",
   "execution_count": null,
   "metadata": {
    "scrolled": true
   },
   "outputs": [],
   "source": [
    "len(df[df['anomalous_sqft_living'] > 3])"
   ]
  },
  {
   "cell_type": "code",
   "execution_count": null,
   "metadata": {
    "scrolled": true
   },
   "outputs": [],
   "source": [
    "df[df['anomalous_sqft_living'] > 3]['anomalous_sqft_living'].hist();"
   ]
  },
  {
   "cell_type": "code",
   "execution_count": null,
   "metadata": {
    "scrolled": false
   },
   "outputs": [],
   "source": [
    "highlight = df.sort_values('anomalous_sqft_living', ascending=False)[:43].index\n",
    "\n",
    "blue_dots = df_map.drop(highlight)\n",
    "red_dots = df_map.loc[highlight]\n",
    "\n",
    "fig, ax = plt.subplots(figsize=(11,8))\n",
    "\n",
    "blue_dots.plot.scatter(x='long', y='lat', alpha=0.7, color='blue', ax=ax, label='the rest')\n",
    "red_dots.plot.scatter(x='long', y='lat', alpha=0.7, color='red', s=100, ax=ax, label='highlighted')\n",
    "\n",
    "ax.legend();"
   ]
  },
  {
   "cell_type": "code",
   "execution_count": null,
   "metadata": {
    "scrolled": true
   },
   "outputs": [],
   "source": [
    "df.sort_values('anomalous_sqft_living', ascending=False)[:41][[\n",
    "    'sqft_living', 'nearby_sqft_living', 'bedrooms', 'address', 'city', 'zip']]"
   ]
  },
  {
   "cell_type": "code",
   "execution_count": null,
   "metadata": {
    "scrolled": true
   },
   "outputs": [],
   "source": [
    "df.sort_values('sqft_living', ascending=True)[['sqft_living', 'bedrooms', 'price']][:20]"
   ]
  },
  {
   "cell_type": "markdown",
   "metadata": {},
   "source": [
    "Any dwelling under 500 sqft seems quite small, and anything under 250 seems nearly impossible. The number of bedrooms seems right for small dwellings (all 0 or 1) but some of these tiny studio apartments seem to be fetching sums of more than 1 million. Let's drop all dwellings under 250 sqft, anything under 325 that's selling for 750,000+, and anything under 425 that's over 1 million."
   ]
  },
  {
   "cell_type": "code",
   "execution_count": null,
   "metadata": {},
   "outputs": [],
   "source": [
    "df.drop(df[\n",
    "    (df['sqft_living'] < 250) |\n",
    "    (df['sqft_living'] < 325) &\n",
    "    (df['price'] > 750000) |\n",
    "    (df['sqft_living'] < 425) &\n",
    "    (df['price'] > 1000000)\n",
    "].index, inplace=True)"
   ]
  },
  {
   "cell_type": "markdown",
   "metadata": {},
   "source": [
    "## Looking at Zip Codes"
   ]
  },
  {
   "cell_type": "markdown",
   "metadata": {},
   "source": [
    "Let's group zip codes, by mean price, into 8 bins that correspond as closely as possible with 1/8 of the data each."
   ]
  },
  {
   "cell_type": "code",
   "execution_count": null,
   "metadata": {},
   "outputs": [],
   "source": [
    "df_zip = df.groupby('zip')['price'].mean()\n",
    "\n",
    "num_tiers = 8\n",
    "\n",
    "zip_tier = []\n",
    "\n",
    "for q in range(num_tiers):\n",
    "    zip_tier.append([])\n",
    "    lower = df['price'].quantile(q/num_tiers)\n",
    "    upper = df['price'].quantile((q+1)/num_tiers)\n",
    "    zip_tier[q] = list(df_zip[(df_zip > lower) & (df_zip < upper)].index)\n",
    "\n",
    "def zip_tiering(zip_code):\n",
    "    for q in range(num_tiers):\n",
    "        if zip_code in zip_tier[q]:\n",
    "            return q\n",
    "\n",
    "df['zip_tier'] = df['zip'].apply(lambda x: zip_tiering(x))"
   ]
  },
  {
   "cell_type": "code",
   "execution_count": null,
   "metadata": {},
   "outputs": [],
   "source": [
    "df['zip_tier'].value_counts()"
   ]
  },
  {
   "cell_type": "code",
   "execution_count": null,
   "metadata": {},
   "outputs": [],
   "source": [
    "df.groupby('zip').agg({'price': 'mean'}).hist();"
   ]
  },
  {
   "cell_type": "markdown",
   "metadata": {},
   "source": [
    "## Exploring Multicollinearity"
   ]
  },
  {
   "cell_type": "code",
   "execution_count": null,
   "metadata": {},
   "outputs": [],
   "source": [
    "# save absolute value of correlation matrix as a data frame\n",
    "# converts all values to absolute value\n",
    "# stacks the row:column pairs into a multindex\n",
    "# reset the index to set the multindex to seperate columns\n",
    "# sort values. 0 is the column automatically generated by the stacking\n",
    "\n",
    "df_mc=df.corr().abs().stack().reset_index().sort_values(0, ascending=False)\n",
    "\n",
    "# zip the variable name columns (Which were only named level_0 and level_1 by default) in a new column named \"pairs\"\n",
    "df_mc['pairs'] = list(zip(df_mc.level_0, df_mc.level_1))\n",
    "\n",
    "# set index to pairs\n",
    "df_mc.set_index(['pairs'], inplace = True)\n",
    "\n",
    "# drop level columns\n",
    "df_mc.drop(columns=['level_1', 'level_0'], inplace = True)\n",
    "\n",
    "# rename correlation column as cc rather than 0\n",
    "df_mc.columns = ['cc']\n",
    "\n",
    "# drop duplicates. This could be dangerous if you have variables perfectly correlated with variables other than themse\n",
    "# for the sake of exercise, kept it in.\n",
    "df_mc.drop_duplicates(inplace=True)"
   ]
  },
  {
   "cell_type": "code",
   "execution_count": null,
   "metadata": {},
   "outputs": [],
   "source": [
    "df_mc[(df_mc.cc > .62) & (df_mc.cc < 1)]"
   ]
  },
  {
   "cell_type": "markdown",
   "metadata": {},
   "source": [
    "Most notable here are a few strong predictors of price (nearby_ppsqft, nearby_price) and a few likely instances of actual multicollinearity, namely sqft_living paired with each of sqft_above, bathrooms, and grade."
   ]
  },
  {
   "cell_type": "markdown",
   "metadata": {},
   "source": [
    "## Exploring Log Transformations"
   ]
  },
  {
   "cell_type": "code",
   "execution_count": null,
   "metadata": {},
   "outputs": [],
   "source": [
    "df['log_price'] = np.log(df['price'])"
   ]
  },
  {
   "cell_type": "code",
   "execution_count": null,
   "metadata": {},
   "outputs": [],
   "source": [
    "# Use qqplot function from StatsModels\n",
    "fig, (ax1, ax2) = plt.subplots(ncols=2, figsize=(13,5))\n",
    "sm.graphics.qqplot(df['price'], line='45', fit=True, ax=ax1)\n",
    "sm.graphics.qqplot(df['log_price'], line='45', fit=True, ax=ax2)\n",
    "\n",
    "fig.suptitle(\"Normal Distribution\");"
   ]
  },
  {
   "cell_type": "code",
   "execution_count": null,
   "metadata": {},
   "outputs": [],
   "source": [
    "fig, (ax1, ax2) = plt.subplots(ncols=2, figsize=(13,5))\n",
    "\n",
    "df['price'].hist(ax = ax1, bins=50)\n",
    "df['log_price'].hist(ax = ax2, bins=50)\n",
    "\n",
    "fig.suptitle('Price, Raw v. Log-Transformed', size=18)\n",
    "fig.tight_layout();"
   ]
  },
  {
   "cell_type": "markdown",
   "metadata": {},
   "source": [
    "Log-transforming the price clearly gives us a closer to normal set of target values to work with.\n",
    "\n",
    "Let's consider which of the features possibly warrant log-transforming."
   ]
  },
  {
   "cell_type": "code",
   "execution_count": null,
   "metadata": {
    "scrolled": false
   },
   "outputs": [],
   "source": [
    "log_candidates = ['sqft_living', 'sqft_lot', 'sqft_above', 'nearby_price',\n",
    "       'nearby_sqft_living', 'nearby_sqft_lot', 'nearby_ppsqft']\n",
    "\n",
    "y = df['price']\n",
    "\n",
    "fig, axes = plt.subplots(ncols=2, nrows=len(log_candidates), figsize=(8,25))\n",
    "\n",
    "for i, column in enumerate(log_candidates):\n",
    "    # Plot raw version\n",
    "    left_ax = axes[i][0]\n",
    "    left_ax.scatter(df[column], y, alpha=0.5)\n",
    "    left_ax.set_xlabel(column)\n",
    "    left_ax.set_ylabel('price')\n",
    "    \n",
    "    # Plot log transformed version\n",
    "    right_ax = axes[i][1]\n",
    "    right_ax.scatter(np.log(df[column]), np.log(y), alpha=0.5)\n",
    "    right_ax.set_xlabel(f\"log({column})\")\n",
    "    right_ax.set_ylabel(\"log_price\")\n",
    "    \n",
    "fig.suptitle(\"Raw vs. Log Transformed\")\n",
    "\n",
    "fig.tight_layout();"
   ]
  },
  {
   "cell_type": "markdown",
   "metadata": {},
   "source": [
    "It appears that *any*thing that's measured in square feet also looks better against the target variable when log-transformed. The clearest examples are:\n",
    "- sqft_living\n",
    "- nearby_price\n",
    "- nearby_sqft_living\n",
    "- nearby_ppsqft\n",
    "\n",
    "We'll add log columns for those features."
   ]
  },
  {
   "cell_type": "code",
   "execution_count": null,
   "metadata": {},
   "outputs": [],
   "source": [
    "df['log_sqft_living'] = np.log(df['sqft_living'])\n",
    "df['log_nearby_price'] = np.log(df['nearby_price'])\n",
    "df['log_nearby_sqft_living'] = np.log(df['nearby_sqft_living'])\n",
    "df['log_nearby_ppsqft'] = np.log(df['nearby_ppsqft'])"
   ]
  },
  {
   "cell_type": "code",
   "execution_count": null,
   "metadata": {},
   "outputs": [],
   "source": [
    "corr_columns = ['price', 'log_price', 'bedrooms', 'bathrooms', 'sqft_living', 'sqft_lot',\n",
    "                'floors', 'sqft_above', 'sqft_basement', 'sqft_garage', 'sqft_patio',\n",
    "                'yr_built', 'yr_renovated', 'ppsqft', 'age', 'years_since_renovation',\n",
    "                'nearby_price', 'nearby_sqft_living', 'nearby_sqft_lot', 'nearby_ppsqft',\n",
    "                'nearby_age', 'log_sqft_living', 'log_nearby_price',\n",
    "                'log_nearby_sqft_living', 'log_nearby_ppsqft']"
   ]
  },
  {
   "cell_type": "code",
   "execution_count": null,
   "metadata": {
    "scrolled": false
   },
   "outputs": [],
   "source": [
    "df[corr_columns].corr()[['price', 'log_price']]"
   ]
  },
  {
   "cell_type": "markdown",
   "metadata": {},
   "source": [
    "## Column Maintenance\n",
    "Before we explore interactions between variables, we want to create more features to potentially interact."
   ]
  },
  {
   "cell_type": "code",
   "execution_count": null,
   "metadata": {},
   "outputs": [],
   "source": [
    "df = pd.get_dummies(df, columns = [\n",
    "    'waterfront', 'greenbelt', 'nuisance', 'city', 'zip', 'zip_tier'])\n",
    "df.drop(columns = ['waterfront_NO', 'greenbelt_NO', 'nuisance_NO',\n",
    "                               'zip_98422', 'city_White Center', 'zip_tier_0'], axis = 1, inplace = True)"
   ]
  },
  {
   "cell_type": "code",
   "execution_count": null,
   "metadata": {},
   "outputs": [],
   "source": [
    "df['heat_source'].value_counts()"
   ]
  },
  {
   "cell_type": "markdown",
   "metadata": {},
   "source": [
    "The \"sewer system\" feature also has just 8 instances of \"restricted\" service, whatever that means."
   ]
  },
  {
   "cell_type": "code",
   "execution_count": null,
   "metadata": {},
   "outputs": [],
   "source": [
    "df['sewer_system'].value_counts()"
   ]
  },
  {
   "cell_type": "markdown",
   "metadata": {},
   "source": [
    "We'll fix these so that we have (slightly overlapping) categorical variables for each. That is, there will be a feature for \"private\" (1 if private, 0 if public) and another feature for \"restricted\" (1 if restricted, 0 if not)."
   ]
  },
  {
   "cell_type": "code",
   "execution_count": null,
   "metadata": {},
   "outputs": [],
   "source": [
    "df['gas'] = df['heat_source'].apply(lambda x: 1 if str(x)[:3] == 'Gas' else 0)\n",
    "df['electricity'] = df['heat_source'].apply(lambda x: 1 if str(x)[:3] == 'Ele' else 0)\n",
    "df['oil'] = df['heat_source'].apply(lambda x: 1 if str(x)[:3] == 'Oil' else 0)\n",
    "df['solar'] = df['heat_source'].apply(lambda x: 1 if str(x)[-5:] == 'Solar' else 0)\n",
    "\n",
    "df['sewer_system_private'] = df[\n",
    "    'sewer_system'].apply(lambda x: 1 if str(x)[:7] == 'PRIVATE' else 0)\n",
    "df['sewer_system_restricted'] = df[\n",
    "    'sewer_system'].apply(lambda x: 1 if str(x)[-10:] == 'RESTRICTED' else 0)"
   ]
  },
  {
   "cell_type": "markdown",
   "metadata": {},
   "source": [
    "Finally, we'll create some helpful groups for all of the columns we may wish to include in our model."
   ]
  },
  {
   "cell_type": "code",
   "execution_count": null,
   "metadata": {},
   "outputs": [],
   "source": [
    "numeric_continuous = ['sqft_living', 'sqft_lot', 'sqft_above', 'sqft_basement', 'sqft_garage', 'sqft_patio',\n",
    "                      'age', 'years_since_renovation']\n",
    "nearby = ['nearby_price', 'nearby_sqft_living', 'nearby_sqft_lot', 'nearby_ppsqft', 'nearby_age']\n",
    "logs = ['log_sqft_living', 'log_nearby_price', 'log_nearby_sqft_living', 'log_nearby_ppsqft']\n",
    "numeric_discrete = ['bedrooms', 'bathrooms', 'floors', 'view', 'condition', 'grade']\n",
    "categorical = ['waterfront_YES', 'greenbelt_YES', 'nuisance_YES']\n",
    "utilities = ['gas', 'electricity', 'oil', 'solar', 'sewer_system_private', 'sewer_system_restricted']\n",
    "cities = ['city_Algona', 'city_Ames Lake', 'city_Auburn', 'city_Beaux Arts', 'city_Bellevue', 'city_Black Diamond',\n",
    "          'city_Bothell', 'city_Burien', 'city_Carnation', 'city_Clyde Hill', 'city_Cottage Lake', 'city_Covington',\n",
    "          'city_Dash Point', 'city_Des Moines', 'city_Dilworth', 'city_Duvall', 'city_Enumclaw', 'city_Fairwood',\n",
    "          'city_Fall City', 'city_Federal Way', 'city_Hobart', 'city_Hunts Point', 'city_Issaquah', 'city_Kenmore',\n",
    "          'city_Kent', 'city_Kirkland', 'city_Lake Forest Park', 'city_Lakeland North', 'city_Maple Valley',\n",
    "          'city_Medina', 'city_Mercer Island', 'city_Milton', 'city_Newcastle', 'city_Normandy Park',\n",
    "          'city_North Bend', 'city_Pacific', 'city_Preston', 'city_Ravensdale', 'city_Redmond', 'city_Renton',\n",
    "          'city_Sammamish', 'city_SeaTac', 'city_Seattle', 'city_Shoreline', 'city_Snoqualmie', 'city_Tukwila',\n",
    "          'city_Union Hill-Novelty Hill', 'city_Vashon', 'city_Woodinville', 'city_Yarrow Point']\n",
    "zips = ['zip_98001', 'zip_98002', 'zip_98003', 'zip_98004', 'zip_98005', 'zip_98006', 'zip_98007', 'zip_98008',\n",
    "        'zip_98010', 'zip_98011', 'zip_98014', 'zip_98019', 'zip_98022', 'zip_98023', 'zip_98024', 'zip_98027',\n",
    "        'zip_98028', 'zip_98029', 'zip_98030', 'zip_98031', 'zip_98032', 'zip_98033', 'zip_98034', 'zip_98038',\n",
    "        'zip_98039', 'zip_98040', 'zip_98042', 'zip_98045', 'zip_98047', 'zip_98050', 'zip_98051', 'zip_98052',\n",
    "        'zip_98053', 'zip_98055', 'zip_98056', 'zip_98057', 'zip_98058', 'zip_98059', 'zip_98065', 'zip_98070',\n",
    "        'zip_98072', 'zip_98074', 'zip_98075', 'zip_98077', 'zip_98092', 'zip_98102', 'zip_98103', 'zip_98105',\n",
    "        'zip_98106', 'zip_98107', 'zip_98108', 'zip_98109', 'zip_98112', 'zip_98115', 'zip_98116', 'zip_98117',\n",
    "        'zip_98118', 'zip_98119', 'zip_98122', 'zip_98125', 'zip_98126', 'zip_98133', 'zip_98136', 'zip_98144',\n",
    "        'zip_98146', 'zip_98148', 'zip_98155', 'zip_98166', 'zip_98168', 'zip_98177', 'zip_98178', 'zip_98188',\n",
    "        'zip_98198', 'zip_98199', 'zip_98354']\n",
    "tiers = ['zip_tier_1', 'zip_tier_2', 'zip_tier_3', 'zip_tier_4', 'zip_tier_5', 'zip_tier_6', 'zip_tier_7']"
   ]
  },
  {
   "cell_type": "markdown",
   "metadata": {},
   "source": [
    "## Exploring Interactions Between Variables\n",
    "We can isolate one of the lower zip code tiers with the highest and see that their scatterplots suggest different best-fit lines."
   ]
  },
  {
   "cell_type": "code",
   "execution_count": null,
   "metadata": {
    "scrolled": false
   },
   "outputs": [],
   "source": [
    "fig, (ax1, ax2) = plt.subplots(ncols=2, figsize=(18,5))\n",
    "cmap = colors.ListedColormap(['orange', 'blue'])\n",
    "\n",
    "df.plot.scatter(x='sqft_living', y='price', c='zip_tier_1', cmap=cmap, alpha=0.5, ax=ax1)\n",
    "df.plot.scatter(x='sqft_living', y='price', c='zip_tier_7', cmap=cmap, alpha=0.5, ax=ax2)\n",
    "fig.tight_layout();"
   ]
  },
  {
   "cell_type": "markdown",
   "metadata": {},
   "source": [
    "Let's plot fit lines for all the different zip code tiers against each other (and over a scatterplot of all the data)."
   ]
  },
  {
   "cell_type": "code",
   "execution_count": null,
   "metadata": {
    "scrolled": false
   },
   "outputs": [],
   "source": [
    "fig, ax = plt.subplots(figsize=(8,5))\n",
    "df.plot.scatter(x='sqft_living', y='price', alpha=0.1, ax=ax, color='black')\n",
    "\n",
    "xseq = np.linspace(0, 16000, num=100)\n",
    "\n",
    "dft1 = df[df['zip_tier_1'] == 1][['price', 'sqft_living']]\n",
    "dft2 = df[df['zip_tier_2'] == 1][['price', 'sqft_living']]\n",
    "dft3 = df[df['zip_tier_3'] == 1][['price', 'sqft_living']]\n",
    "dft4 = df[df['zip_tier_4'] == 1][['price', 'sqft_living']]\n",
    "dft5 = df[df['zip_tier_5'] == 1][['price', 'sqft_living']]\n",
    "dft6 = df[df['zip_tier_6'] == 1][['price', 'sqft_living']]\n",
    "dft7 = df[df['zip_tier_7'] == 1][['price', 'sqft_living']]\n",
    "\n",
    "b1, a1 = np.polyfit(dft1['sqft_living'], dft1['price'], deg=1)\n",
    "b2, a2 = np.polyfit(dft2['sqft_living'], dft2['price'], deg=1)\n",
    "b3, a3 = np.polyfit(dft3['sqft_living'], dft3['price'], deg=1)\n",
    "b4, a4 = np.polyfit(dft4['sqft_living'], dft4['price'], deg=1)\n",
    "b5, a5 = np.polyfit(dft5['sqft_living'], dft5['price'], deg=1)\n",
    "b6, a6 = np.polyfit(dft6['sqft_living'], dft6['price'], deg=1)\n",
    "b7, a7 = np.polyfit(dft7['sqft_living'], dft7['price'], deg=1)\n",
    "\n",
    "ax.plot(xseq, a1 + b1 * xseq, color='red', lw=2.5)\n",
    "ax.plot(xseq, a2 + b2 * xseq, color='orange', lw=2.5)\n",
    "ax.plot(xseq, a3 + b3 * xseq, color='yellow', lw=2.5)\n",
    "ax.plot(xseq, a4 + b4 * xseq, color='green', lw=2.5)\n",
    "ax.plot(xseq, a5 + b5 * xseq, color='blue', lw=2.5)\n",
    "ax.plot(xseq, a6 + b6 * xseq, color='indigo', lw=2.5)\n",
    "ax.plot(xseq, a7 + b7 * xseq, color='violet', lw=2.5)\n",
    "\n",
    "fig.tight_layout();"
   ]
  },
  {
   "cell_type": "markdown",
   "metadata": {},
   "source": [
    "This makes a strong case for interaction between sqft_living and the various zip code tiers.\n",
    "\n",
    "Now we'll make a similar comparison for waterfront listings."
   ]
  },
  {
   "cell_type": "code",
   "execution_count": null,
   "metadata": {
    "scrolled": false
   },
   "outputs": [],
   "source": [
    "fig, ax = plt.subplots(figsize=(8,5))\n",
    "df.plot.scatter(x='sqft_living', y='price', alpha=0.1, ax=ax, color='black')\n",
    "\n",
    "xseq = np.linspace(0, 16000, num=100)\n",
    "\n",
    "df_water = df[df['waterfront_YES'] == 1][['price', 'sqft_living']]\n",
    "df_land = df[df['waterfront_YES'] == 0][['price', 'sqft_living']]\n",
    "\n",
    "b1, a1 = np.polyfit(df_water['sqft_living'], df_water['price'], deg=1)\n",
    "b2, a2 = np.polyfit(df_land['sqft_living'], df_land['price'], deg=1)\n",
    "\n",
    "\n",
    "\n",
    "ax.plot(xseq, a1 + b1 * xseq, color='blue', lw=2.5)\n",
    "ax.plot(xseq, a2 + b2 * xseq, color='green', lw=2.5)\n",
    "\n",
    "fig.tight_layout();"
   ]
  },
  {
   "cell_type": "markdown",
   "metadata": {},
   "source": [
    "This seems like another clear interaction case."
   ]
  },
  {
   "cell_type": "markdown",
   "metadata": {},
   "source": [
    "# Modeling\n",
    "## Baseline Model\n",
    "\n",
    "Let's review the strongest correlations and choose what feature(s) to include in a simple baseline."
   ]
  },
  {
   "cell_type": "code",
   "execution_count": null,
   "metadata": {},
   "outputs": [],
   "source": [
    "df.corr()[['price']].sort_values('price')[-10:]"
   ]
  },
  {
   "cell_type": "markdown",
   "metadata": {},
   "source": [
    "We obviously can't use log_price as a feature, as that would involve the target as a feature. But nearby_price should be fair game.\n",
    "\n",
    "The strongest correlation among the original features is with sqft_living.\n",
    "\n",
    "Let's make a simple baseline using sqft_living only."
   ]
  },
  {
   "cell_type": "code",
   "execution_count": null,
   "metadata": {
    "scrolled": false
   },
   "outputs": [],
   "source": [
    "y = df['price']\n",
    "X_baseline = df[['sqft_living']]\n",
    "\n",
    "baseline_model = sm.OLS(y, sm.add_constant(X_baseline))\n",
    "baseline_results = baseline_model.fit()\n",
    "\n",
    "print(baseline_results.summary())"
   ]
  },
  {
   "cell_type": "markdown",
   "metadata": {},
   "source": [
    "0.421 is not super."
   ]
  },
  {
   "cell_type": "markdown",
   "metadata": {},
   "source": [
    "## Kitchen Sink Model\n",
    "Here we'll include everything that came with the original data set, and some minor adjustments we made, such as \"age\" from \"yr_built\" and \"year of sale\".\n",
    "\n",
    "We'll also strip out features we previously identified as multicollinear with other features: sqft_above, bedrooms, and grade.\n",
    "\n",
    "Finally, we'll standardize the values so that we can make apples-to-apples comparisons across coefficients."
   ]
  },
  {
   "cell_type": "code",
   "execution_count": null,
   "metadata": {
    "scrolled": false
   },
   "outputs": [],
   "source": [
    "y = df['price']\n",
    "X_kitchen_sink = pd.concat([\n",
    "    df[numeric_continuous], df[numeric_discrete], df[categorical], df[utilities]],\n",
    "    axis=1).drop(['sqft_above', 'bedrooms', 'grade'], axis=1)\n",
    "\n",
    "for col in X_kitchen_sink:\n",
    "    X_kitchen_sink[col] = (X_kitchen_sink[col] - X_kitchen_sink[col].mean()) / X_kitchen_sink[col].std()\n",
    "\n",
    "kitchen_sink_model = sm.OLS(y, sm.add_constant(X_kitchen_sink))\n",
    "kitchen_sink_results = kitchen_sink_model.fit()\n",
    "\n",
    "print(kitchen_sink_results.summary())"
   ]
  },
  {
   "cell_type": "markdown",
   "metadata": {},
   "source": [
    "0.481, a bit better, and we've learned a few things.\n",
    "\n",
    "Living area dominates the coefficients. For some reason having more basement area is a bad thing? (We'll drop that feature.) Age is surprisingly a good thing, while years since renovation is not.\n",
    "\n",
    "Among the desirability features, condition and greenbelt have the weakest numbers, and nuisance is somehow positively correlated. Let's drop those features.\n",
    "\n",
    "The utilities information doesn't seem to help. The only significant p-value is for solar, which has a smaller coefficient and we know to only apply to relatively few records. Having a private sewer system seems to be a strong negative, however, so perhaps we can keep that alone from the utilities features."
   ]
  },
  {
   "cell_type": "markdown",
   "metadata": {},
   "source": [
    "## Kitchen Sink \"Lean\" Model\n",
    "We'll run a similarly large number of features, but stripping out the ones just discussed."
   ]
  },
  {
   "cell_type": "code",
   "execution_count": null,
   "metadata": {
    "scrolled": false
   },
   "outputs": [],
   "source": [
    "y = df['price']\n",
    "X_kitchen_sink_lean = X_kitchen_sink.copy().drop([\n",
    "    'sqft_basement', 'condition', 'greenbelt_YES', 'nuisance_YES', 'gas',\n",
    "    'electricity', 'oil', 'solar', 'sewer_system_restricted'],\n",
    "    axis=1)\n",
    "\n",
    "kitchen_sink_lean_model = sm.OLS(y, sm.add_constant(X_kitchen_sink_lean))\n",
    "kitchen_sink_lean_results = kitchen_sink_lean_model.fit()\n",
    "\n",
    "print(kitchen_sink_lean_results.summary())"
   ]
  },
  {
   "cell_type": "code",
   "execution_count": null,
   "metadata": {},
   "outputs": [],
   "source": [
    "plt.close(\"all\")"
   ]
  }
 ],
 "metadata": {
  "kernelspec": {
   "display_name": "Python 3",
   "language": "python",
   "name": "python3"
  },
  "language_info": {
   "codemirror_mode": {
    "name": "ipython",
    "version": 3
   },
   "file_extension": ".py",
   "mimetype": "text/x-python",
   "name": "python",
   "nbconvert_exporter": "python",
   "pygments_lexer": "ipython3",
   "version": "3.8.5"
  }
 },
 "nbformat": 4,
 "nbformat_minor": 4
}
